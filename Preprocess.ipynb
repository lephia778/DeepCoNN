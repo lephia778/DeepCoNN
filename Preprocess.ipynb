{
 "cells": [
  {
   "cell_type": "code",
   "execution_count": 1,
   "metadata": {
    "ExecuteTime": {
     "end_time": "2020-12-18T14:12:23.623868Z",
     "start_time": "2020-12-18T14:12:22.250870Z"
    }
   },
   "outputs": [],
   "source": [
    "import os\n",
    "import time\n",
    "import pandas as pd\n",
    "import numpy as np\n",
    "from sklearn.model_selection import train_test_split\n",
    "from nltk import pos_tag, word_tokenize\n",
    "from nltk.tokenize import RegexpTokenizer\n",
    "from nltk.tokenize import WordPunctTokenizer\n",
    "from nltk.corpus import stopwords\n",
    "from nltk.stem import WordNetLemmatizer\n",
    "from nltk.tokenize import WhitespaceTokenizer\n",
    "import re"
   ]
  },
  {
   "cell_type": "code",
   "execution_count": 2,
   "metadata": {
    "ExecuteTime": {
     "end_time": "2020-12-18T14:12:23.632870Z",
     "start_time": "2020-12-18T14:12:23.624871Z"
    }
   },
   "outputs": [
    {
     "data": {
      "text/plain": [
       "'data/Musical_Instruments_5.json'"
      ]
     },
     "execution_count": 2,
     "metadata": {},
     "output_type": "execute_result"
    }
   ],
   "source": [
    "prefix = 'data'\n",
    "file_name = 'Musical_Instruments'\n",
    "suffix = '_5.json'\n",
    "\n",
    "os.path.join(prefix,file_name+suffix).replace(\"\\\\\",\"/\")"
   ]
  },
  {
   "cell_type": "code",
   "execution_count": 3,
   "metadata": {
    "ExecuteTime": {
     "end_time": "2020-12-18T14:12:26.191870Z",
     "start_time": "2020-12-18T14:12:23.633871Z"
    }
   },
   "outputs": [
    {
     "data": {
      "text/plain": [
       "0"
      ]
     },
     "execution_count": 3,
     "metadata": {},
     "output_type": "execute_result"
    }
   ],
   "source": [
    "df = pd.read_json(os.path.join(prefix,file_name+suffix).replace(\"\\\\\",\"/\"), lines=True)\n",
    "\n",
    "df = df[['reviewerID', 'asin', 'overall', 'reviewText']]\n",
    "df.columns = ['userID', 'itemID', 'ratings', 'reviewText']\n",
    "\n",
    "df.drop_duplicates(['userID' ,'itemID'], inplace=True, keep='first')\n",
    "df.duplicated(['userID' ,'itemID']).sum()"
   ]
  },
  {
   "cell_type": "code",
   "execution_count": 4,
   "metadata": {
    "ExecuteTime": {
     "end_time": "2020-12-18T14:12:26.304868Z",
     "start_time": "2020-12-18T14:12:26.192869Z"
    }
   },
   "outputs": [],
   "source": [
    "df = df.drop(df[[not isinstance(x, str) or len(x) == 0 for x in df['reviewText']]].index)  # erase null reviews"
   ]
  },
  {
   "cell_type": "code",
   "execution_count": 5,
   "metadata": {
    "ExecuteTime": {
     "end_time": "2020-12-18T14:12:26.315870Z",
     "start_time": "2020-12-18T14:12:26.305870Z"
    }
   },
   "outputs": [],
   "source": [
    "stop_words = stopwords.words('english')\n",
    "lemmatizer = WordNetLemmatizer() \n",
    "tokenizer = RegexpTokenizer(r'\\w+')\n",
    "\n",
    "def clean_review(review):  # clean a review using stop words and useless punctuations\n",
    "        review = review.lower()\n",
    "        review = tokenizer.tokenize(review) # remove punctuation\n",
    "        review = [word for word in review if word not in stop_words] # remove stopword\n",
    "#         review2 = []\n",
    "#         for word, tag in pos_tag(review):\n",
    "#             wntag = tag[0].lower()\n",
    "#             wntag = wntag if wntag in ['a', 'r', 'n', 'v'] else None\n",
    "#             lemma = lemmatizer.lemmatize(word, wntag) if wntag else word\n",
    "#             review2.append(lemma)\n",
    "        \n",
    "#         return review2\n",
    "\n",
    "        return ' '.join(review)"
   ]
  },
  {
   "cell_type": "code",
   "execution_count": 6,
   "metadata": {
    "ExecuteTime": {
     "end_time": "2020-12-18T14:12:43.016870Z",
     "start_time": "2020-12-18T14:12:26.316870Z"
    }
   },
   "outputs": [],
   "source": [
    "df['reviewText'] = df['reviewText'].apply(clean_review)"
   ]
  },
  {
   "cell_type": "code",
   "execution_count": 7,
   "metadata": {
    "ExecuteTime": {
     "end_time": "2020-12-18T14:12:43.020869Z",
     "start_time": "2020-12-18T14:12:43.017870Z"
    }
   },
   "outputs": [],
   "source": [
    "# For testing clean reivew text\n",
    "\n",
    "# df2 = df.copy()\n",
    "# df2['reviewText'] = df2['reviewText'].apply(clean_review)\n",
    "# df2.head()"
   ]
  },
  {
   "cell_type": "code",
   "execution_count": 8,
   "metadata": {
    "ExecuteTime": {
     "end_time": "2020-12-18T14:12:43.350868Z",
     "start_time": "2020-12-18T14:12:43.022868Z"
    }
   },
   "outputs": [],
   "source": [
    "# user = df.userID.unique()\n",
    "# user_dict = dict(zip(user, range(1, len(user)+1)))\n",
    "# inverse_user_dict = {v: k for k, v in user_dict.items()}\n",
    "\n",
    "# item = df.itemID.unique()\n",
    "# item_dict = dict(zip(item, range(1, len(item)+1)))\n",
    "# inverse_item_dict = {v: k for k, v in item_dict.items()}\n",
    "\n",
    "user = df.userID.unique()\n",
    "user_dict = dict(zip(user, range(0, len(user))))\n",
    "inverse_user_dict = {v: k for k, v in user_dict.items()}\n",
    "\n",
    "item = df.itemID.unique()\n",
    "item_dict = dict(zip(item, range(0, len(item))))\n",
    "inverse_item_dict = {v: k for k, v in item_dict.items()}\n",
    "\n",
    "\n",
    "\n",
    "df['userID'] = df['userID'].map(user_dict)\n",
    "df['itemID'] = df['itemID'].map(item_dict)"
   ]
  },
  {
   "cell_type": "code",
   "execution_count": 9,
   "metadata": {
    "ExecuteTime": {
     "end_time": "2020-12-18T14:12:43.354870Z",
     "start_time": "2020-12-18T14:12:43.351871Z"
    }
   },
   "outputs": [],
   "source": [
    "# map user(or item) to number\n",
    "# df['userID'] = df.groupby(df['userID']).ngroup()\n",
    "# df['itemID'] = df.groupby(df['itemID']).ngroup("
   ]
  },
  {
   "cell_type": "code",
   "execution_count": 10,
   "metadata": {
    "ExecuteTime": {
     "end_time": "2020-12-18T14:12:43.378875Z",
     "start_time": "2020-12-18T14:12:43.355870Z"
    }
   },
   "outputs": [
    {
     "data": {
      "text/plain": [
       "array([5., 5., 5., ..., 4., 1., 5.], dtype=float32)"
      ]
     },
     "execution_count": 10,
     "metadata": {},
     "output_type": "execute_result"
    }
   ],
   "source": [
    "df['ratings'].values.astype(np.float32)"
   ]
  },
  {
   "cell_type": "code",
   "execution_count": 11,
   "metadata": {
    "ExecuteTime": {
     "end_time": "2020-12-18T14:12:43.439868Z",
     "start_time": "2020-12-18T14:12:43.379871Z"
    }
   },
   "outputs": [],
   "source": [
    "# Split to train valid test (60% 20% 20%)\n",
    "\n",
    "train, valid = train_test_split(df, test_size= 0.4, random_state=111)  \n",
    "valid, test = train_test_split(valid, test_size=0.5, random_state=111)\n"
   ]
  },
  {
   "cell_type": "code",
   "execution_count": 12,
   "metadata": {
    "ExecuteTime": {
     "end_time": "2020-12-18T14:12:44.377876Z",
     "start_time": "2020-12-18T14:12:43.440869Z"
    }
   },
   "outputs": [],
   "source": [
    "train.to_csv(os.path.join(prefix,file_name+'_train.csv').replace(\"\\\\\",\"/\"),index=False)\n",
    "valid.to_csv(os.path.join(prefix,file_name+'_valid.csv').replace(\"\\\\\",\"/\"),index=False)\n",
    "test.to_csv(os.path.join(prefix,file_name+'_test.csv').replace(\"\\\\\",\"/\"),index=False)"
   ]
  }
 ],
 "metadata": {
  "kernelspec": {
   "display_name": "tensorflow2",
   "language": "python",
   "name": "tensorflow2"
  },
  "language_info": {
   "codemirror_mode": {
    "name": "ipython",
    "version": 3
   },
   "file_extension": ".py",
   "mimetype": "text/x-python",
   "name": "python",
   "nbconvert_exporter": "python",
   "pygments_lexer": "ipython3",
   "version": "3.7.6"
  },
  "latex_envs": {
   "LaTeX_envs_menu_present": true,
   "autoclose": false,
   "autocomplete": true,
   "bibliofile": "biblio.bib",
   "cite_by": "apalike",
   "current_citInitial": 1,
   "eqLabelWithNumbers": true,
   "eqNumInitial": 1,
   "hotkeys": {
    "equation": "Ctrl-E",
    "itemize": "Ctrl-I"
   },
   "labels_anchors": false,
   "latex_user_defs": false,
   "report_style_numbering": false,
   "user_envs_cfg": false
  },
  "toc": {
   "base_numbering": 1,
   "nav_menu": {},
   "number_sections": true,
   "sideBar": true,
   "skip_h1_title": false,
   "title_cell": "Table of Contents",
   "title_sidebar": "Contents",
   "toc_cell": false,
   "toc_position": {},
   "toc_section_display": true,
   "toc_window_display": false
  },
  "varInspector": {
   "cols": {
    "lenName": 16,
    "lenType": 16,
    "lenVar": 40
   },
   "kernels_config": {
    "python": {
     "delete_cmd_postfix": "",
     "delete_cmd_prefix": "del ",
     "library": "var_list.py",
     "varRefreshCmd": "print(var_dic_list())"
    },
    "r": {
     "delete_cmd_postfix": ") ",
     "delete_cmd_prefix": "rm(",
     "library": "var_list.r",
     "varRefreshCmd": "cat(var_dic_list()) "
    }
   },
   "types_to_exclude": [
    "module",
    "function",
    "builtin_function_or_method",
    "instance",
    "_Feature"
   ],
   "window_display": false
  }
 },
 "nbformat": 4,
 "nbformat_minor": 4
}
