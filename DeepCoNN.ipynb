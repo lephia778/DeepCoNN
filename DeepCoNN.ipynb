{
 "cells": [
  {
   "cell_type": "code",
   "execution_count": 1,
   "metadata": {
    "ExecuteTime": {
     "end_time": "2020-12-26T19:11:17.375458Z",
     "start_time": "2020-12-26T19:11:16.061447Z"
    }
   },
   "outputs": [],
   "source": [
    "# Clear GPU Memory\n",
    "\n",
    "from numba import cuda \n",
    "device = cuda.get_current_device()\n",
    "device.reset()"
   ]
  },
  {
   "cell_type": "code",
   "execution_count": 2,
   "metadata": {
    "ExecuteTime": {
     "end_time": "2020-12-26T19:11:20.422449Z",
     "start_time": "2020-12-26T19:11:17.376448Z"
    }
   },
   "outputs": [],
   "source": [
    "import math\n",
    "import pandas as pd\n",
    "import numpy as np\n",
    "from time import time\n",
    "from tensorflow.keras.preprocessing.text import text_to_word_sequence\n",
    "import re\n",
    "import warnings\n",
    "warnings.filterwarnings('ignore')"
   ]
  },
  {
   "cell_type": "code",
   "execution_count": 3,
   "metadata": {
    "ExecuteTime": {
     "end_time": "2020-12-26T19:11:20.429448Z",
     "start_time": "2020-12-26T19:11:20.423449Z"
    }
   },
   "outputs": [
    {
     "data": {
      "text/plain": [
       "'2.1.0'"
      ]
     },
     "execution_count": 3,
     "metadata": {},
     "output_type": "execute_result"
    }
   ],
   "source": [
    "import tensorflow as tf\n",
    "tf.__version__"
   ]
  },
  {
   "cell_type": "code",
   "execution_count": 4,
   "metadata": {
    "ExecuteTime": {
     "end_time": "2020-12-26T19:11:23.334467Z",
     "start_time": "2020-12-26T19:11:20.430449Z"
    }
   },
   "outputs": [
    {
     "data": {
      "text/plain": [
       "[PhysicalDevice(name='/physical_device:GPU:0', device_type='GPU')]"
      ]
     },
     "execution_count": 4,
     "metadata": {},
     "output_type": "execute_result"
    }
   ],
   "source": [
    "tf.config.list_physical_devices('GPU')"
   ]
  },
  {
   "cell_type": "markdown",
   "metadata": {},
   "source": [
    "# Data pre-processing."
   ]
  },
  {
   "cell_type": "code",
   "execution_count": 5,
   "metadata": {
    "ExecuteTime": {
     "end_time": "2020-12-26T19:11:23.356468Z",
     "start_time": "2020-12-26T19:11:23.335465Z"
    }
   },
   "outputs": [],
   "source": [
    "data = 'Digital_Music'"
   ]
  },
  {
   "cell_type": "code",
   "execution_count": 6,
   "metadata": {
    "ExecuteTime": {
     "end_time": "2020-12-26T19:11:23.595465Z",
     "start_time": "2020-12-26T19:11:23.357466Z"
    }
   },
   "outputs": [],
   "source": [
    "train = pd.read_csv('data/'+ data +'_train.csv')\n",
    "valid = pd.read_csv('data/'+ data +'_valid.csv')\n",
    "test = pd.read_csv('data/'+ data +'_test.csv')\n",
    "\n",
    "# train = pd.read_csv('data/Digital_Music_train.csv')\n",
    "# valid = pd.read_csv('data/Digital_Music_valid.csv')\n",
    "# test = pd.read_csv('data/Digital_Music_test.csv')"
   ]
  },
  {
   "cell_type": "code",
   "execution_count": 7,
   "metadata": {
    "ExecuteTime": {
     "end_time": "2020-12-26T19:11:23.608463Z",
     "start_time": "2020-12-26T19:11:23.596466Z"
    }
   },
   "outputs": [],
   "source": [
    "df = pd.concat([train, valid, test])\n",
    "n_users = df['userID'].nunique()\n",
    "n_items = df['itemID'].nunique()\n"
   ]
  },
  {
   "cell_type": "code",
   "execution_count": 8,
   "metadata": {
    "ExecuteTime": {
     "end_time": "2020-12-26T19:11:23.625465Z",
     "start_time": "2020-12-26T19:11:23.609465Z"
    }
   },
   "outputs": [
    {
     "data": {
      "text/plain": [
       "array([5., 4., 5., ..., 5., 5., 5.], dtype=float32)"
      ]
     },
     "execution_count": 8,
     "metadata": {},
     "output_type": "execute_result"
    }
   ],
   "source": [
    "train['ratings'].values.astype(np.float32)\n",
    "valid['ratings'].values.astype(np.float32)\n",
    "test['ratings'].values.astype(np.float32)"
   ]
  },
  {
   "cell_type": "code",
   "execution_count": 9,
   "metadata": {
    "ExecuteTime": {
     "end_time": "2020-12-26T19:14:00.288403Z",
     "start_time": "2020-12-26T19:11:23.626466Z"
    }
   },
   "outputs": [],
   "source": [
    "def add_user_item_reviews(x):\n",
    "    ur = user_reviews.loc[x[\"userID\"]].values.tolist()\n",
    "    mr = item_reviews.loc[x[\"itemID\"]].values.tolist()\n",
    "    x[\"userReviews\"] = \" \".join(list(map(lambda x: str(x[0]), ur)))\n",
    "    x[\"itemReviews\"] = \" \".join(list(map(lambda x: str(x[0]), mr)))\n",
    "    return x\n",
    "\n",
    "train2 = train.drop(\"reviewText\", axis=1)\n",
    "user_reviews = pd.pivot_table(train, index=[\"userID\", \"itemID\"], aggfunc=lambda x: x).drop(\"ratings\", axis=1)  \n",
    "item_reviews = pd.pivot_table(train, index=[\"itemID\", \"userID\"], aggfunc=lambda x: x).drop(\"ratings\", axis=1)\n",
    "train2 = train2.apply(add_user_item_reviews, axis=1)\n",
    "\n"
   ]
  },
  {
   "cell_type": "code",
   "execution_count": 10,
   "metadata": {
    "ExecuteTime": {
     "end_time": "2020-12-26T19:14:01.594403Z",
     "start_time": "2020-12-26T19:14:00.289403Z"
    }
   },
   "outputs": [],
   "source": [
    "valid2 = valid.copy()\n",
    "valid2 = train2[['userID', 'userReviews']].drop_duplicates().merge(valid2, how='right', on='userID')\n",
    "valid2 = train2[['itemID', 'itemReviews']].drop_duplicates().merge(valid2, how='right', on='itemID')\n",
    "valid2 = valid2[train2.columns]\n",
    "valid2 = valid2.dropna()\n",
    "\n",
    "test2 = test.copy()\n",
    "test2 = train2[['userID', 'userReviews']].drop_duplicates().merge(test2, how='right', on='userID')\n",
    "test2 = train2[['itemID', 'itemReviews']].drop_duplicates().merge(test2, how='right', on='itemID')\n",
    "test2 = test2[train2.columns]\n",
    "test2 = test2.dropna()"
   ]
  },
  {
   "cell_type": "markdown",
   "metadata": {},
   "source": [
    "Embed the reviews into GloVe word2vect model. \n",
    "\n",
    "The pre-trained GloVe model is downloadable at\n",
    "https://nlp.stanford.edu/projects/glove/"
   ]
  },
  {
   "cell_type": "code",
   "execution_count": 11,
   "metadata": {
    "ExecuteTime": {
     "end_time": "2020-12-26T19:14:01.599402Z",
     "start_time": "2020-12-26T19:14:01.595403Z"
    }
   },
   "outputs": [],
   "source": [
    "del train\n",
    "del valid\n",
    "del test"
   ]
  },
  {
   "cell_type": "code",
   "execution_count": 12,
   "metadata": {
    "ExecuteTime": {
     "end_time": "2020-12-26T19:14:41.103560Z",
     "start_time": "2020-12-26T19:14:01.600402Z"
    }
   },
   "outputs": [],
   "source": [
    "import os.path\n",
    "# functions to embed user reviews into the GloVe word2vect model\n",
    "def init_embeddings_map(fname):\n",
    "    with open(os.path.join(\"glove.6B\", fname), encoding=\"utf8\") as glove:\n",
    "        return {l[0]: np.asarray(l[1:], dtype=\"float32\") for l in\n",
    "                [line.split() for line in glove]}\n",
    "\n",
    "def get_embed_func(i_len, u_len, pad_value, embedding_map):\n",
    "    def embed(row):\n",
    "        sentence = row[\"userReviews\"].split()[:u_len]\n",
    "        reviews = list(map(lambda word: embedding_map.get(word)\n",
    "            if word in embedding_map else pad_value, sentence))\n",
    "        row[\"userReviews\"] = reviews +[pad_value] * (u_len - len(reviews))\n",
    "        sentence = row[\"itemReviews\"].split()[:i_len]\n",
    "        reviews = list(map(lambda word: embedding_map.get(word) if word in embedding_map else pad_value, sentence))\n",
    "        row[\"itemReviews\"] = reviews +[pad_value] * (i_len - len(reviews))\n",
    "        return row\n",
    "    return embed\n",
    "\n",
    "emb_size = 50 #or 100, 200, 300\n",
    "embedding_map = init_embeddings_map(\"glove.6B.\" + str(emb_size) + \"d.txt\")\n",
    "\n",
    "user_sizes = train2.loc[:, \"userReviews\"].apply(lambda x: x.split()).apply(len) \n",
    "u_ptile = 50\n",
    "u_len = int(np.percentile(user_sizes, u_ptile))\n",
    "del user_sizes\n",
    "\n",
    "item_sizes = train2.loc[:, \"itemReviews\"].apply(lambda x: x.split()).apply(len)\n",
    "i_ptile = 50\n",
    "i_len = int(np.percentile(item_sizes, i_ptile))\n",
    "del item_sizes\n",
    "\n",
    "embedding_fn = get_embed_func(i_len, u_len, np.array([0.0] * emb_size), embedding_map)\n",
    "    \n",
    "train_embedded = train2.apply(embedding_fn, axis=1)\n",
    "valid_embedded = valid2.apply(embedding_fn, axis=1)\n",
    "test_embedded = test2.apply(embedding_fn, axis=1)\n",
    "\n",
    "# print(u_len, i_len) # size of input in deep neural networks, useful to set parameters\n",
    "train_embedded.head()\n",
    "\n",
    "del embedding_fn"
   ]
  },
  {
   "cell_type": "markdown",
   "metadata": {},
   "source": [
    "# Deep learning models"
   ]
  },
  {
   "cell_type": "code",
   "execution_count": 13,
   "metadata": {
    "ExecuteTime": {
     "end_time": "2020-12-26T19:14:41.110563Z",
     "start_time": "2020-12-26T19:14:41.104560Z"
    }
   },
   "outputs": [],
   "source": [
    "import tensorflow as tf\n",
    "from tensorflow.keras.models import Model\n",
    "from tensorflow.keras.callbacks import EarlyStopping, TensorBoard, ModelCheckpoint\n",
    "from tensorflow.keras.layers import Conv1D, GRU, LSTM, MaxPooling1D, Flatten, BatchNormalization, Bidirectional\n",
    "from tensorflow.keras.layers import Input, Dense, Dropout, Add, Dot, Concatenate, Embedding, Reshape, Activation, Lambda\n",
    "from tensorflow.keras.regularizers import l2"
   ]
  },
  {
   "cell_type": "code",
   "execution_count": 14,
   "metadata": {
    "ExecuteTime": {
     "end_time": "2020-12-26T19:14:41.130563Z",
     "start_time": "2020-12-26T19:14:41.111564Z"
    }
   },
   "outputs": [],
   "source": [
    "tf.random.set_seed(27)"
   ]
  },
  {
   "cell_type": "markdown",
   "metadata": {},
   "source": [
    "## Matrix Factorization"
   ]
  },
  {
   "cell_type": "code",
   "execution_count": 15,
   "metadata": {
    "ExecuteTime": {
     "end_time": "2020-12-26T19:14:41.277560Z",
     "start_time": "2020-12-26T19:14:41.131561Z"
    }
   },
   "outputs": [],
   "source": [
    "# Train test for Matrix Factorization\n",
    "X_train = train2[['userID', 'itemID']].values\n",
    "y_train = train2['ratings'].values\n",
    "\n",
    "X_valid = valid2[['userID', 'itemID']].values\n",
    "y_valid = valid2['ratings'].values\n",
    "\n",
    "X_test = test2[['userID', 'itemID']].values\n",
    "y_test = test2['ratings'].values\n",
    "\n",
    "\n",
    "X_train_array = [X_train[:, 0], X_train[:, 1]]\n",
    "X_valid_array = [X_valid[:, 0], X_valid[:, 1]]\n",
    "X_test_array = [X_test[:, 0], X_test[:, 1]]\n",
    "\n",
    "min_rating = min(train2['ratings'])\n",
    "max_rating = max(train2['ratings'])\n",
    "\n",
    "del train2\n",
    "del valid2\n",
    "del test2"
   ]
  },
  {
   "cell_type": "code",
   "execution_count": 16,
   "metadata": {
    "ExecuteTime": {
     "end_time": "2020-12-26T19:14:42.404560Z",
     "start_time": "2020-12-26T19:14:41.278561Z"
    }
   },
   "outputs": [],
   "source": [
    "n_factors = 100\n",
    "\n",
    "class EmbeddingLayer:\n",
    "    def __init__(self, n_items, n_factors):\n",
    "        self.n_items = n_items\n",
    "        self.n_factors = n_factors\n",
    "    \n",
    "    def __call__(self, x):\n",
    "        x = Embedding(self.n_items, self.n_factors, embeddings_initializer='he_normal',\n",
    "                      embeddings_regularizer=l2(1e-6))(x)\n",
    "        x = Reshape((self.n_factors,))(x)\n",
    "        return x\n",
    "    \n",
    "def MatrixFactorization(n_users, n_items, n_factors, min_rating, max_rating):\n",
    "    user = Input(shape=(1,))\n",
    "    u = EmbeddingLayer(n_users, n_factors)(user)\n",
    "    ub = EmbeddingLayer(n_users, 1)(user)\n",
    "    \n",
    "    item = Input(shape=(1,))\n",
    "    i = EmbeddingLayer(n_items, n_factors)(item)\n",
    "    ib = EmbeddingLayer(n_items, 1)(item)\n",
    "    x = Dot(axes=1)([u, i])\n",
    "    x = Add()([x, ub, ib])\n",
    "    x = Activation('sigmoid')(x)\n",
    "    x = Lambda(lambda x: x * (max_rating - min_rating) + min_rating)(x)\n",
    "    model = Model(inputs=[user, item], outputs=x)\n",
    "    model.compile(loss='mse', optimizer='Adam')\n",
    "    return model\n",
    "\n",
    "model_MF = MatrixFactorization(n_users, n_items, n_factors, min_rating, max_rating)"
   ]
  },
  {
   "cell_type": "code",
   "execution_count": 17,
   "metadata": {
    "ExecuteTime": {
     "end_time": "2020-12-26T19:46:06.336315Z",
     "start_time": "2020-12-26T19:14:42.405562Z"
    }
   },
   "outputs": [
    {
     "name": "stdout",
     "output_type": "stream",
     "text": [
      "Train on 87087 samples, validate on 28473 samples\n",
      "Epoch 1/100\n",
      "87087/87087 [==============================] - 32s 363us/sample - loss: 2.9655 - val_loss: 2.4876\n",
      "Epoch 2/100\n",
      "87087/87087 [==============================] - 30s 348us/sample - loss: 1.5746 - val_loss: 1.4161\n",
      "Epoch 3/100\n",
      "87087/87087 [==============================] - 30s 348us/sample - loss: 0.5302 - val_loss: 0.9465\n",
      "Epoch 4/100\n",
      "87087/87087 [==============================] - 30s 349us/sample - loss: 0.2211 - val_loss: 0.7797\n",
      "Epoch 5/100\n",
      "87087/87087 [==============================] - 32s 364us/sample - loss: 0.1414 - val_loss: 0.7042\n",
      "Epoch 6/100\n",
      "87087/87087 [==============================] - 31s 352us/sample - loss: 0.1238 - val_loss: 0.6561\n",
      "Epoch 7/100\n",
      "87087/87087 [==============================] - 31s 355us/sample - loss: 0.1231 - val_loss: 0.6236\n",
      "Epoch 8/100\n",
      "87087/87087 [==============================] - 30s 348us/sample - loss: 0.1213 - val_loss: 0.5972\n",
      "Epoch 9/100\n",
      "87087/87087 [==============================] - 32s 363us/sample - loss: 0.1181 - val_loss: 0.5777\n",
      "Epoch 10/100\n",
      "87087/87087 [==============================] - 30s 349us/sample - loss: 0.1166 - val_loss: 0.5594\n",
      "Epoch 11/100\n",
      "87087/87087 [==============================] - 30s 350us/sample - loss: 0.1152 - val_loss: 0.5466\n",
      "Epoch 12/100\n",
      "87087/87087 [==============================] - 31s 352us/sample - loss: 0.1135 - val_loss: 0.5356\n",
      "Epoch 13/100\n",
      "87087/87087 [==============================] - 31s 357us/sample - loss: 0.1123 - val_loss: 0.5260\n",
      "Epoch 14/100\n",
      "87087/87087 [==============================] - 30s 349us/sample - loss: 0.1113 - val_loss: 0.5159\n",
      "Epoch 15/100\n",
      "87087/87087 [==============================] - 30s 349us/sample - loss: 0.1099 - val_loss: 0.5099\n",
      "Epoch 16/100\n",
      "87087/87087 [==============================] - 32s 372us/sample - loss: 0.1087 - val_loss: 0.5030\n",
      "Epoch 17/100\n",
      "87087/87087 [==============================] - 31s 359us/sample - loss: 0.1082 - val_loss: 0.5004\n",
      "Epoch 18/100\n",
      "87087/87087 [==============================] - 30s 345us/sample - loss: 0.1075 - val_loss: 0.4937\n",
      "Epoch 19/100\n",
      "87087/87087 [==============================] - 31s 355us/sample - loss: 0.1063 - val_loss: 0.4912\n",
      "Epoch 20/100\n",
      "87087/87087 [==============================] - 33s 380us/sample - loss: 0.1060 - val_loss: 0.4866\n",
      "Epoch 21/100\n",
      "87087/87087 [==============================] - 33s 383us/sample - loss: 0.1053 - val_loss: 0.4848\n",
      "Epoch 22/100\n",
      "87087/87087 [==============================] - 33s 377us/sample - loss: 0.1046 - val_loss: 0.4810\n",
      "Epoch 23/100\n",
      "87087/87087 [==============================] - 33s 382us/sample - loss: 0.1039 - val_loss: 0.4794\n",
      "Epoch 24/100\n",
      "87087/87087 [==============================] - 31s 361us/sample - loss: 0.1036 - val_loss: 0.4759\n",
      "Epoch 25/100\n",
      "87087/87087 [==============================] - 32s 365us/sample - loss: 0.1033 - val_loss: 0.4769\n",
      "Epoch 26/100\n",
      "87087/87087 [==============================] - 32s 366us/sample - loss: 0.1025 - val_loss: 0.4736\n",
      "Epoch 27/100\n",
      "87087/87087 [==============================] - 30s 342us/sample - loss: 0.1021 - val_loss: 0.4730\n",
      "Epoch 28/100\n",
      "87087/87087 [==============================] - 30s 343us/sample - loss: 0.1019 - val_loss: 0.4712\n",
      "Epoch 29/100\n",
      "87087/87087 [==============================] - 30s 345us/sample - loss: 0.1014 - val_loss: 0.4706\n",
      "Epoch 30/100\n",
      "87087/87087 [==============================] - 31s 352us/sample - loss: 0.1011 - val_loss: 0.4694\n",
      "Epoch 31/100\n",
      "87087/87087 [==============================] - 33s 376us/sample - loss: 0.1006 - val_loss: 0.4681\n",
      "Epoch 32/100\n",
      "87087/87087 [==============================] - 34s 393us/sample - loss: 0.1004 - val_loss: 0.4676\n",
      "Epoch 33/100\n",
      "87087/87087 [==============================] - 34s 388us/sample - loss: 0.1000 - val_loss: 0.4667\n",
      "Epoch 34/100\n",
      "87087/87087 [==============================] - 31s 353us/sample - loss: 0.1000 - val_loss: 0.4659\n",
      "Epoch 35/100\n",
      "87087/87087 [==============================] - 30s 347us/sample - loss: 0.0994 - val_loss: 0.4654\n",
      "Epoch 36/100\n",
      "87087/87087 [==============================] - 30s 346us/sample - loss: 0.0994 - val_loss: 0.4652\n",
      "Epoch 37/100\n",
      "87087/87087 [==============================] - 30s 349us/sample - loss: 0.0989 - val_loss: 0.4648\n",
      "Epoch 38/100\n",
      "87087/87087 [==============================] - 30s 347us/sample - loss: 0.0988 - val_loss: 0.4642\n",
      "Epoch 39/100\n",
      "87087/87087 [==============================] - 31s 353us/sample - loss: 0.0985 - val_loss: 0.4640\n",
      "Epoch 40/100\n",
      "87087/87087 [==============================] - 32s 367us/sample - loss: 0.0986 - val_loss: 0.4635\n",
      "Epoch 41/100\n",
      "87087/87087 [==============================] - 33s 375us/sample - loss: 0.0981 - val_loss: 0.4630\n",
      "Epoch 42/100\n",
      "87087/87087 [==============================] - 31s 353us/sample - loss: 0.0980 - val_loss: 0.4629\n",
      "Epoch 43/100\n",
      "87087/87087 [==============================] - 31s 356us/sample - loss: 0.0979 - val_loss: 0.4620\n",
      "Epoch 44/100\n",
      "87087/87087 [==============================] - 30s 345us/sample - loss: 0.0978 - val_loss: 0.4624\n",
      "Epoch 45/100\n",
      "87087/87087 [==============================] - 33s 375us/sample - loss: 0.0973 - val_loss: 0.4623\n",
      "Epoch 46/100\n",
      "87087/87087 [==============================] - 32s 369us/sample - loss: 0.0974 - val_loss: 0.4619\n",
      "Epoch 47/100\n",
      "87087/87087 [==============================] - 31s 359us/sample - loss: 0.0973 - val_loss: 0.4624\n",
      "Epoch 48/100\n",
      "87087/87087 [==============================] - 30s 346us/sample - loss: 0.0969 - val_loss: 0.4622\n",
      "Epoch 49/100\n",
      "87087/87087 [==============================] - 31s 350us/sample - loss: 0.0970 - val_loss: 0.4616\n",
      "Epoch 50/100\n",
      "87087/87087 [==============================] - 33s 377us/sample - loss: 0.0967 - val_loss: 0.4611\n",
      "Epoch 51/100\n",
      "87087/87087 [==============================] - 33s 377us/sample - loss: 0.0966 - val_loss: 0.4616\n",
      "Epoch 52/100\n",
      "87087/87087 [==============================] - 33s 377us/sample - loss: 0.0964 - val_loss: 0.4608\n",
      "Epoch 53/100\n",
      "87087/87087 [==============================] - 33s 377us/sample - loss: 0.0965 - val_loss: 0.4612\n",
      "Epoch 54/100\n",
      "87087/87087 [==============================] - 33s 376us/sample - loss: 0.0962 - val_loss: 0.4617\n",
      "Epoch 55/100\n",
      "87087/87087 [==============================] - 33s 377us/sample - loss: 0.0962 - val_loss: 0.4602\n",
      "Epoch 56/100\n",
      "87087/87087 [==============================] - 33s 377us/sample - loss: 0.0961 - val_loss: 0.4620\n",
      "Epoch 57/100\n",
      "87087/87087 [==============================] - 33s 378us/sample - loss: 0.0960 - val_loss: 0.4612\n",
      "Epoch 58/100\n",
      "87087/87087 [==============================] - 31s 352us/sample - loss: 0.0959 - val_loss: 0.4613\n",
      "Epoch 59/100\n",
      "87087/87087 [==============================] - 30s 346us/sample - loss: 0.0959 - val_loss: 0.4610\n",
      "Epoch 60/100\n",
      "87087/87087 [==============================] - 30s 344us/sample - loss: 0.0958 - val_loss: 0.4626\n"
     ]
    }
   ],
   "source": [
    "batch_size = 32\n",
    "epochs = 100\n",
    "\n",
    "tensorboard = TensorBoard(log_dir='model\\\\' + data + '\\\\mf_log')\n",
    "earlystop = EarlyStopping(monitor='val_loss', patience=5)\n",
    "checkpoint = ModelCheckpoint('model/'+ data + '/mf_weight/mf_weights.{epoch:02d}-{val_loss:.2f}.h5',\n",
    "                             monitor='val_loss', save_best_only=True)\n",
    "\n",
    "history_MF = model_MF.fit(x=X_train_array, y=y_train, batch_size=batch_size, epochs=epochs,\n",
    "                    verbose=1, validation_data=(X_valid_array, y_valid), callbacks=[tensorboard, earlystop, checkpoint])\n",
    "\n",
    "model_MF.save('model/' + data + '/mf.h5')\n"
   ]
  },
  {
   "cell_type": "code",
   "execution_count": 18,
   "metadata": {
    "ExecuteTime": {
     "end_time": "2020-12-26T19:46:10.895317Z",
     "start_time": "2020-12-26T19:46:06.337317Z"
    }
   },
   "outputs": [
    {
     "name": "stdout",
     "output_type": "stream",
     "text": [
      "28511/28511 [==============================] - 5s 159us/sample - loss: 0.4640\n"
     ]
    },
    {
     "data": {
      "text/plain": [
       "0.4639778082224668"
      ]
     },
     "execution_count": 18,
     "metadata": {},
     "output_type": "execute_result"
    }
   ],
   "source": [
    "model_MF.evaluate(X_test_array, y_test)"
   ]
  },
  {
   "cell_type": "code",
   "execution_count": 19,
   "metadata": {
    "ExecuteTime": {
     "end_time": "2020-12-26T19:46:10.911315Z",
     "start_time": "2020-12-26T19:46:10.896316Z"
    }
   },
   "outputs": [],
   "source": [
    "hist_df = pd.DataFrame(history_MF.history)\n",
    "hist_csv_file = 'model/'+ data + '/history_MF.csv'\n",
    "with open(hist_csv_file, mode='w') as f:\n",
    "    hist_df.to_csv(f)"
   ]
  },
  {
   "cell_type": "code",
   "execution_count": 20,
   "metadata": {
    "ExecuteTime": {
     "end_time": "2020-12-26T19:46:11.257318Z",
     "start_time": "2020-12-26T19:46:10.912315Z"
    }
   },
   "outputs": [
    {
     "data": {
      "image/png": "[encoded data removed]",
      "text/plain": [
       "<Figure size 432x288 with 1 Axes>"
      ]
     },
     "metadata": {
      "needs_background": "light"
     },
     "output_type": "display_data"
    }
   ],
   "source": [
    "loss = pd.DataFrame({'epoch': [ i + 1 for i in history_MF.epoch ],\n",
    "                     'training': [ math.sqrt(loss) for loss in history_MF.history['loss'] ],\n",
    "                     'validation': [ math.sqrt(loss) for loss in history_MF.history['val_loss'] ]})\n",
    "#ax = loss.ix[:,:].plot(x='epoch', figsize={1,30}, grid=True)\n",
    "ax = loss.loc[:,:].plot(x='epoch', grid=True)\n",
    "ax.set_ylabel(\"Mean squared error\")\n",
    "ax.set_xlim([0,80])\n",
    "ax.set_ylim([-0.0,2.0]);"
   ]
  },
  {
   "cell_type": "markdown",
   "metadata": {},
   "source": [
    "## DeepCoNN"
   ]
  },
  {
   "cell_type": "code",
   "execution_count": 21,
   "metadata": {
    "ExecuteTime": {
     "end_time": "2020-12-26T19:46:21.077316Z",
     "start_time": "2020-12-26T19:46:11.258318Z"
    }
   },
   "outputs": [],
   "source": [
    "# Train Test for DeepConn\n",
    "\n",
    "train_user_reviews = np.array(list(train_embedded.loc[:, \"userReviews\"]))\n",
    "train_item_reviews = np.array(list(train_embedded.loc[:, \"itemReviews\"]))\n",
    "\n",
    "train_inputs = [train_user_reviews, train_item_reviews]\n",
    "train_outputs = train_embedded.loc[:, \"ratings\"]\n",
    "\n",
    "valid_user_reviews = np.array(list(valid_embedded.loc[:, \"userReviews\"]))\n",
    "valid_item_reviews = np.array(list(valid_embedded.loc[:, \"itemReviews\"]))\n",
    "\n",
    "valid_inputs = [valid_user_reviews, valid_item_reviews]\n",
    "valid_outputs = valid_embedded.loc[:, \"ratings\"]\n",
    "\n",
    "test_user_reviews = np.array(list(test_embedded.loc[:, \"userReviews\"]))\n",
    "test_item_reviews = np.array(list(test_embedded.loc[:, \"itemReviews\"]))\n",
    "\n",
    "test_inputs = [test_user_reviews, test_item_reviews]\n",
    "test_outputs = test_embedded.loc[:, \"ratings\"]\n",
    "\n",
    "del train_embedded\n",
    "del valid_embedded\n",
    "del test_embedded"
   ]
  },
  {
   "cell_type": "markdown",
   "metadata": {},
   "source": [
    "### CNN"
   ]
  },
  {
   "cell_type": "code",
   "execution_count": 22,
   "metadata": {
    "ExecuteTime": {
     "end_time": "2020-12-26T19:46:21.153317Z",
     "start_time": "2020-12-26T19:46:21.078318Z"
    },
    "scrolled": true
   },
   "outputs": [
    {
     "name": "stdout",
     "output_type": "stream",
     "text": [
      "Model: \"model_1\"\n",
      "__________________________________________________________________________________________________\n",
      "Layer (type)                    Output Shape         Param #     Connected to                     \n",
      "==================================================================================================\n",
      "input_3 (InputLayer)            [(None, 46, 50)]     0                                            \n",
      "__________________________________________________________________________________________________\n",
      "input_4 (InputLayer)            [(None, 109, 50)]    0                                            \n",
      "__________________________________________________________________________________________________\n",
      "conv1d (Conv1D)                 (None, 44, 32)       4832        input_3[0][0]                    \n",
      "__________________________________________________________________________________________________\n",
      "conv1d_1 (Conv1D)               (None, 107, 32)      4832        input_4[0][0]                    \n",
      "__________________________________________________________________________________________________\n",
      "max_pooling1d (MaxPooling1D)    (None, 22, 32)       0           conv1d[0][0]                     \n",
      "__________________________________________________________________________________________________\n",
      "max_pooling1d_1 (MaxPooling1D)  (None, 53, 32)       0           conv1d_1[0][0]                   \n",
      "__________________________________________________________________________________________________\n",
      "flatten (Flatten)               (None, 704)          0           max_pooling1d[0][0]              \n",
      "__________________________________________________________________________________________________\n",
      "flatten_1 (Flatten)             (None, 1696)         0           max_pooling1d_1[0][0]            \n",
      "__________________________________________________________________________________________________\n",
      "dense (Dense)                   (None, 64)           45120       flatten[0][0]                    \n",
      "__________________________________________________________________________________________________\n",
      "dense_1 (Dense)                 (None, 64)           108608      flatten_1[0][0]                  \n",
      "__________________________________________________________________________________________________\n",
      "dropout (Dropout)               (None, 64)           0           dense[0][0]                      \n",
      "__________________________________________________________________________________________________\n",
      "dropout_1 (Dropout)             (None, 64)           0           dense_1[0][0]                    \n",
      "__________________________________________________________________________________________________\n",
      "concatenate (Concatenate)       (None, 128)          0           dropout[0][0]                    \n",
      "                                                                 dropout_1[0][0]                  \n",
      "__________________________________________________________________________________________________\n",
      "dense_2 (Dense)                 (None, 1)            129         concatenate[0][0]                \n",
      "__________________________________________________________________________________________________\n",
      "dot_1 (Dot)                     (None, 1)            0           dropout[0][0]                    \n",
      "                                                                 dropout_1[0][0]                  \n",
      "__________________________________________________________________________________________________\n",
      "add_1 (Add)                     (None, 1)            0           dense_2[0][0]                    \n",
      "                                                                 dot_1[0][0]                      \n",
      "==================================================================================================\n",
      "Total params: 163,521\n",
      "Trainable params: 163,521\n",
      "Non-trainable params: 0\n",
      "__________________________________________________________________________________________________\n"
     ]
    }
   ],
   "source": [
    "def cnn_tower(max_len, embedding_size, hidden_size, filters=32, kernel_size=3):\n",
    "        input_layer = Input(shape=(max_len, embedding_size))\n",
    "        tower = Conv1D(filters=filters, kernel_size=kernel_size, activation=\"relu\")(input_layer)\n",
    "        tower = MaxPooling1D()(tower)\n",
    "#         tower = Conv1D(filters=filters, kernel_size=kernel_size, activation=\"relu\")(tower)\n",
    "#         tower = MaxPooling1D()(tower)\n",
    "        tower = Flatten()(tower)\n",
    "        tower = Dense(hidden_size, activation=\"relu\")(tower)\n",
    "        tower = Dropout(0.4)(tower)\n",
    "        return input_layer, tower\n",
    "    \n",
    "def DeepCoNN_CNN_model(embedding_size, hidden_size, u_len, i_len):\n",
    "    inputU, towerU = cnn_tower(u_len, embedding_size, hidden_size)\n",
    "    inputI, towerI = cnn_tower(i_len, embedding_size, hidden_size)\n",
    "    joined = Concatenate()([towerU, towerI])\n",
    "    outNeuron = Dense(1)(joined)\n",
    "    dotproduct = Dot(axes=1)([towerU, towerI])\n",
    "    output_layer = Add()([outNeuron, dotproduct])\n",
    "        \n",
    "    model = Model(inputs=[inputU, inputI], outputs=[output_layer])\n",
    "    return model\n",
    "\n",
    "hidden_size = 64\n",
    "\n",
    "model_cnn = DeepCoNN_CNN_model(emb_size, hidden_size, u_len, i_len)\n",
    "model_cnn.compile(optimizer='Adam', loss='mse')\n",
    "model_cnn.summary()"
   ]
  },
  {
   "cell_type": "code",
   "execution_count": 23,
   "metadata": {
    "ExecuteTime": {
     "end_time": "2020-12-26T19:48:57.382315Z",
     "start_time": "2020-12-26T19:46:21.155317Z"
    }
   },
   "outputs": [
    {
     "name": "stdout",
     "output_type": "stream",
     "text": [
      "Train on 87087 samples, validate on 28473 samples\n",
      "Epoch 1/50\n",
      "87087/87087 [==============================] - 12s 138us/sample - loss: 0.9747 - val_loss: 0.4698\n",
      "Epoch 2/50\n",
      "87087/87087 [==============================] - 10s 119us/sample - loss: 0.6409 - val_loss: 0.4240\n",
      "Epoch 3/50\n",
      "87087/87087 [==============================] - 11s 125us/sample - loss: 0.5391 - val_loss: 0.4145\n",
      "Epoch 4/50\n",
      "87087/87087 [==============================] - 10s 120us/sample - loss: 0.4773 - val_loss: 0.4085\n",
      "Epoch 5/50\n",
      "87087/87087 [==============================] - 10s 117us/sample - loss: 0.4402 - val_loss: 0.4070\n",
      "Epoch 6/50\n",
      "87087/87087 [==============================] - 10s 118us/sample - loss: 0.4166 - val_loss: 0.3935\n",
      "Epoch 7/50\n",
      "87087/87087 [==============================] - 10s 118us/sample - loss: 0.3978 - val_loss: 0.3942\n",
      "Epoch 8/50\n",
      "87087/87087 [==============================] - 10s 119us/sample - loss: 0.3910 - val_loss: 0.3890\n",
      "Epoch 9/50\n",
      "87087/87087 [==============================] - 10s 117us/sample - loss: 0.3878 - val_loss: 0.3867\n",
      "Epoch 10/50\n",
      "87087/87087 [==============================] - 10s 115us/sample - loss: 0.3789 - val_loss: 0.3833\n",
      "Epoch 11/50\n",
      "87087/87087 [==============================] - 10s 114us/sample - loss: 0.3756 - val_loss: 0.3834\n",
      "Epoch 12/50\n",
      "87087/87087 [==============================] - 10s 118us/sample - loss: 0.3683 - val_loss: 0.3769\n",
      "Epoch 13/50\n",
      "87087/87087 [==============================] - 10s 118us/sample - loss: 0.3660 - val_loss: 0.3775\n",
      "Epoch 14/50\n",
      "87087/87087 [==============================] - 10s 118us/sample - loss: 0.3633 - val_loss: 0.3794\n",
      "Epoch 15/50\n",
      "87087/87087 [==============================] - 10s 117us/sample - loss: 0.3605 - val_loss: 0.3786\n"
     ]
    }
   ],
   "source": [
    "batch_size = 32\n",
    "epochs = 50\n",
    "\n",
    "tensorboard = TensorBoard(log_dir='model\\\\' + data + '\\\\cnn_log')\n",
    "earlystop = EarlyStopping(monitor='val_loss', patience=3)\n",
    "checkpoint = ModelCheckpoint('model/' + data + '/cnn_weight/cnn_weights.{epoch:02d}-{val_loss:.2f}.h5',\n",
    "                             monitor='val_loss', save_best_only=True)\n",
    "history_cnn = model_cnn.fit(train_inputs, train_outputs, callbacks=[tensorboard, earlystop, checkpoint], \n",
    "                              validation_data=(valid_inputs, valid_outputs), batch_size=batch_size, epochs=epochs)\n",
    "\n",
    "model_cnn.save('model/' + data + '/cnn.h5')"
   ]
  },
  {
   "cell_type": "code",
   "execution_count": 24,
   "metadata": {
    "ExecuteTime": {
     "end_time": "2020-12-26T19:48:57.389317Z",
     "start_time": "2020-12-26T19:48:57.384318Z"
    }
   },
   "outputs": [],
   "source": [
    "hist_df = pd.DataFrame(history_cnn.history)\n",
    "hist_csv_file = 'model/'+ data + '/history_cnn.csv'\n",
    "with open(hist_csv_file, mode='w') as f:\n",
    "    hist_df.to_csv(f)"
   ]
  },
  {
   "cell_type": "code",
   "execution_count": 25,
   "metadata": {
    "ExecuteTime": {
     "end_time": "2020-12-26T19:48:59.047316Z",
     "start_time": "2020-12-26T19:48:57.390315Z"
    }
   },
   "outputs": [
    {
     "name": "stdout",
     "output_type": "stream",
     "text": [
      "28511/28511 [==============================] - 2s 57us/sample - loss: 0.3940\n"
     ]
    },
    {
     "data": {
      "text/plain": [
       "0.39401102739521726"
      ]
     },
     "execution_count": 25,
     "metadata": {},
     "output_type": "execute_result"
    }
   ],
   "source": [
    "model_cnn.evaluate(test_inputs, test_outputs)"
   ]
  },
  {
   "cell_type": "code",
   "execution_count": 26,
   "metadata": {
    "ExecuteTime": {
     "end_time": "2020-12-26T19:48:59.160317Z",
     "start_time": "2020-12-26T19:48:59.048317Z"
    }
   },
   "outputs": [
    {
     "data": {
      "image/png": "[encoded data removed]",
      "text/plain": [
       "<Figure size 432x288 with 1 Axes>"
      ]
     },
     "metadata": {
      "needs_background": "light"
     },
     "output_type": "display_data"
    }
   ],
   "source": [
    "loss = pd.DataFrame({'epoch': [ i + 1 for i in history_cnn.epoch ],\n",
    "                     'training': [ math.sqrt(loss) for loss in history_cnn.history['loss'] ],\n",
    "                     'validation': [ math.sqrt(loss) for loss in history_cnn.history['val_loss'] ]})\n",
    "ax = loss.loc[:,:].plot(x='epoch', grid=True)\n",
    "ax.set_ylabel(\"Mean squared error\")\n",
    "ax.set_xlim([0,30])\n",
    "ax.set_ylim([-0.0,2.0]);"
   ]
  },
  {
   "cell_type": "markdown",
   "metadata": {},
   "source": [
    "### GRU"
   ]
  },
  {
   "cell_type": "code",
   "execution_count": 27,
   "metadata": {
    "ExecuteTime": {
     "end_time": "2020-12-26T19:48:59.397317Z",
     "start_time": "2020-12-26T19:48:59.161317Z"
    }
   },
   "outputs": [
    {
     "name": "stdout",
     "output_type": "stream",
     "text": [
      "Model: \"model_2\"\n",
      "__________________________________________________________________________________________________\n",
      "Layer (type)                    Output Shape         Param #     Connected to                     \n",
      "==================================================================================================\n",
      "input_5 (InputLayer)            [(None, 46, 50)]     0                                            \n",
      "__________________________________________________________________________________________________\n",
      "input_6 (InputLayer)            [(None, 109, 50)]    0                                            \n",
      "__________________________________________________________________________________________________\n",
      "gru (GRU)                       (None, 64)           22272       input_5[0][0]                    \n",
      "__________________________________________________________________________________________________\n",
      "gru_1 (GRU)                     (None, 64)           22272       input_6[0][0]                    \n",
      "__________________________________________________________________________________________________\n",
      "dense_3 (Dense)                 (None, 64)           4160        gru[0][0]                        \n",
      "__________________________________________________________________________________________________\n",
      "dense_4 (Dense)                 (None, 64)           4160        gru_1[0][0]                      \n",
      "__________________________________________________________________________________________________\n",
      "dropout_2 (Dropout)             (None, 64)           0           dense_3[0][0]                    \n",
      "__________________________________________________________________________________________________\n",
      "dropout_3 (Dropout)             (None, 64)           0           dense_4[0][0]                    \n",
      "__________________________________________________________________________________________________\n",
      "concatenate_1 (Concatenate)     (None, 128)          0           dropout_2[0][0]                  \n",
      "                                                                 dropout_3[0][0]                  \n",
      "__________________________________________________________________________________________________\n",
      "dense_5 (Dense)                 (None, 1)            129         concatenate_1[0][0]              \n",
      "__________________________________________________________________________________________________\n",
      "dot_2 (Dot)                     (None, 1)            0           dropout_2[0][0]                  \n",
      "                                                                 dropout_3[0][0]                  \n",
      "__________________________________________________________________________________________________\n",
      "add_2 (Add)                     (None, 1)            0           dense_5[0][0]                    \n",
      "                                                                 dot_2[0][0]                      \n",
      "==================================================================================================\n",
      "Total params: 52,993\n",
      "Trainable params: 52,993\n",
      "Non-trainable params: 0\n",
      "__________________________________________________________________________________________________\n"
     ]
    }
   ],
   "source": [
    "def gru_tower(max_len, embedding_size, hidden_size, rnn_hidden_size):\n",
    "        input_layer = Input(shape=(max_len, embedding_size))\n",
    "        tower = GRU(rnn_hidden_size, activation=\"tanh\")(input_layer)\n",
    "        tower = Dense(hidden_size, activation=\"relu\")(tower)\n",
    "        tower = Dropout(0.4)(tower)\n",
    "        return input_layer, tower\n",
    "    \n",
    "def DeepCoNN_GRU_model(embedding_size, hidden_size, rnn_hidden_size, u_len, i_len):\n",
    "    inputU, towerU = gru_tower(u_len, embedding_size, hidden_size, rnn_hidden_size)\n",
    "    InputI, towerI = gru_tower(i_len, embedding_size, hidden_size, rnn_hidden_size)\n",
    "    joined = Concatenate()([towerU, towerI])\n",
    "    outNeuron = Dense(1)(joined)\n",
    "    dotproduct = Dot(axes=1)([towerU, towerI])\n",
    "    output_layer = Add()([outNeuron, dotproduct])\n",
    "        \n",
    "    model = Model(inputs=[inputU, InputI], outputs=[output_layer])\n",
    "    return model\n",
    "\n",
    "hidden_size = 64\n",
    "rnn_hidden_size = 64\n",
    "\n",
    "model_gru = DeepCoNN_GRU_model(emb_size, hidden_size, rnn_hidden_size, u_len, i_len)\n",
    "model_gru.compile(optimizer='Adam', loss='mse')\n",
    "model_gru.summary()"
   ]
  },
  {
   "cell_type": "code",
   "execution_count": 28,
   "metadata": {
    "ExecuteTime": {
     "end_time": "2020-12-26T19:54:58.544316Z",
     "start_time": "2020-12-26T19:48:59.398318Z"
    }
   },
   "outputs": [
    {
     "name": "stdout",
     "output_type": "stream",
     "text": [
      "Train on 87087 samples, validate on 28473 samples\n",
      "Epoch 1/50\n",
      "87087/87087 [==============================] - 24s 275us/sample - loss: 0.9396 - val_loss: 0.4456\n",
      "Epoch 2/50\n",
      "87087/87087 [==============================] - 22s 257us/sample - loss: 0.6576 - val_loss: 0.4384\n",
      "Epoch 3/50\n",
      "87087/87087 [==============================] - 23s 261us/sample - loss: 0.5623 - val_loss: 0.4280\n",
      "Epoch 4/50\n",
      "87087/87087 [==============================] - 22s 255us/sample - loss: 0.4943 - val_loss: 0.3933\n",
      "Epoch 5/50\n",
      "87087/87087 [==============================] - 22s 255us/sample - loss: 0.4429 - val_loss: 0.4158\n",
      "Epoch 6/50\n",
      "87087/87087 [==============================] - 22s 254us/sample - loss: 0.4118 - val_loss: 0.3783\n",
      "Epoch 7/50\n",
      "87087/87087 [==============================] - 22s 256us/sample - loss: 0.3854 - val_loss: 0.3760\n",
      "Epoch 8/50\n",
      "87087/87087 [==============================] - 22s 257us/sample - loss: 0.3668 - val_loss: 0.3743\n",
      "Epoch 9/50\n",
      "87087/87087 [==============================] - 22s 254us/sample - loss: 0.3561 - val_loss: 0.3709\n",
      "Epoch 10/50\n",
      "87087/87087 [==============================] - 22s 253us/sample - loss: 0.3459 - val_loss: 0.3712\n",
      "Epoch 11/50\n",
      "87087/87087 [==============================] - 22s 256us/sample - loss: 0.3385 - val_loss: 0.3662\n",
      "Epoch 12/50\n",
      "87087/87087 [==============================] - 22s 257us/sample - loss: 0.3313 - val_loss: 0.3740\n",
      "Epoch 13/50\n",
      "87087/87087 [==============================] - 22s 257us/sample - loss: 0.3274 - val_loss: 0.3625\n",
      "Epoch 14/50\n",
      "87087/87087 [==============================] - 23s 264us/sample - loss: 0.3203 - val_loss: 0.3691\n",
      "Epoch 15/50\n",
      "87087/87087 [==============================] - 23s 258us/sample - loss: 0.3176 - val_loss: 0.3633\n",
      "Epoch 16/50\n",
      "87087/87087 [==============================] - 22s 254us/sample - loss: 0.3156 - val_loss: 0.3645\n"
     ]
    }
   ],
   "source": [
    "batch_size = 32\n",
    "epochs = 50\n",
    "\n",
    "tensorboard = TensorBoard(log_dir='model\\\\' + data + '\\\\gru_log')\n",
    "earlystop = EarlyStopping(monitor='val_loss', patience=3)\n",
    "checkpoint = ModelCheckpoint('model/' + data + '/gru_weight/gru_weights.{epoch:02d}-{val_loss:.2f}.h5',\n",
    "                             monitor='val_loss', save_best_only=True)\n",
    "history_gru = model_gru.fit(train_inputs, train_outputs, callbacks=[tensorboard, earlystop, checkpoint], \n",
    "                              validation_data=(valid_inputs, valid_outputs), batch_size=batch_size, epochs=epochs)\n",
    "\n",
    "model_gru.save('model/' + data + '/gru.h5')"
   ]
  },
  {
   "cell_type": "code",
   "execution_count": 29,
   "metadata": {
    "ExecuteTime": {
     "end_time": "2020-12-26T19:54:58.550317Z",
     "start_time": "2020-12-26T19:54:58.545316Z"
    }
   },
   "outputs": [],
   "source": [
    "hist_df = pd.DataFrame(history_gru.history)\n",
    "hist_csv_file = 'model/'+ data + '/history_gru.csv'\n",
    "with open(hist_csv_file, mode='w') as f:\n",
    "    hist_df.to_csv(f)"
   ]
  },
  {
   "cell_type": "code",
   "execution_count": 30,
   "metadata": {
    "ExecuteTime": {
     "end_time": "2020-12-26T19:55:01.708316Z",
     "start_time": "2020-12-26T19:54:58.551318Z"
    }
   },
   "outputs": [
    {
     "name": "stdout",
     "output_type": "stream",
     "text": [
      "28511/28511 [==============================] - 3s 109us/sample - loss: 0.3723\n"
     ]
    },
    {
     "data": {
      "text/plain": [
       "0.37232296783592705"
      ]
     },
     "execution_count": 30,
     "metadata": {},
     "output_type": "execute_result"
    }
   ],
   "source": [
    "model_gru.evaluate(test_inputs, test_outputs)"
   ]
  },
  {
   "cell_type": "markdown",
   "metadata": {},
   "source": [
    "### Stacked GRU"
   ]
  },
  {
   "cell_type": "code",
   "execution_count": 31,
   "metadata": {
    "ExecuteTime": {
     "end_time": "2020-12-26T19:55:01.711317Z",
     "start_time": "2020-12-26T19:55:01.709316Z"
    }
   },
   "outputs": [],
   "source": [
    "# def gru_tower(max_len, embedding_size, hidden_size, rnn_hidden_size):\n",
    "#         input_layer = Input(shape=(max_len, embedding_size))\n",
    "#         tower = GRU(rnn_hidden_size, activation=\"tanh\", dropout=0.2, recurrent_dropout=0.2, return_sequences=True)(input_layer)\n",
    "#         tower = BatchNormalization()(tower)\n",
    "#         tower = GRU(16, activation='tanh', dropout=0.2, recurrent_dropout=0.2)(tower)\n",
    "#         tower = Dense(hidden_size, activation=\"relu\")(tower)\n",
    "#         return input_layer, tower\n",
    "    \n",
    "# def DeepCoNN_Stacked_GRU_model(embedding_size, hidden_size, rnn_hidden_size, u_len, i_len):\n",
    "#     inputU, towerU = gru_tower(u_len, embedding_size, hidden_size, rnn_hidden_size)\n",
    "#     InputI, towerI = gru_tower(i_len, embedding_size, hidden_size, rnn_hidden_size)\n",
    "#     joined = Concatenate()([towerU, towerI])\n",
    "#     outNeuron = Dense(1)(joined)\n",
    "#     dotproduct = Dot(axes=1)([towerU, towerI])\n",
    "#     output_layer = Add()([outNeuron, dotproduct])\n",
    "        \n",
    "#     model = Model(inputs=[inputU, InputI], outputs=[output_layer])\n",
    "#     return model\n",
    "\n",
    "# hidden_size = 64\n",
    "# rnn_hidden_size = 64\n",
    "\n",
    "# model_stacked_gru = DeepCoNN_Stacked_GRU_model(emb_size, hidden_size, rnn_hidden_size, u_len, i_len)\n",
    "# model_stacked_gru.compile(optimizer='Adam', loss='mse')\n",
    "# model_stacked_gru.summary()"
   ]
  },
  {
   "cell_type": "code",
   "execution_count": 32,
   "metadata": {
    "ExecuteTime": {
     "end_time": "2020-12-26T19:55:01.741316Z",
     "start_time": "2020-12-26T19:55:01.712317Z"
    }
   },
   "outputs": [],
   "source": [
    "# batch_size = 32\n",
    "# epochs = 50\n",
    "\n",
    "# tensorboard = TensorBoard(log_dir='model\\\\' + data + '\\\\stacked_gru_log')\n",
    "# earlystop = EarlyStopping(monitor='val_loss', patience=3)\n",
    "# checkpoint = ModelCheckpoint('model/' + data + '/stacked_gru_weight/stacked_gru_weights.{epoch:02d}-{val_loss:.2f}.h5',\n",
    "#                              monitor='val_loss', save_best_only=True)\n",
    "# history_stacked_gru = model_stacked_gru.fit(train_inputs, train_outputs, callbacks=[tensorboard, earlystop, checkpoint], \n",
    "#                               validation_data=(valid_inputs, valid_outputs), batch_size=batch_size, epochs=epochs)\n",
    "\n",
    "# model_stacked_gru.save('model/' + data + '/stacked_gru.h5')"
   ]
  },
  {
   "cell_type": "code",
   "execution_count": 33,
   "metadata": {
    "ExecuteTime": {
     "end_time": "2020-12-26T19:55:01.763316Z",
     "start_time": "2020-12-26T19:55:01.742316Z"
    }
   },
   "outputs": [],
   "source": [
    "# model_stacked_gru.evaluate(test_inputs, test_outputs)"
   ]
  },
  {
   "cell_type": "markdown",
   "metadata": {
    "ExecuteTime": {
     "end_time": "2020-12-05T14:25:25.847972Z",
     "start_time": "2020-12-05T14:25:25.844974Z"
    }
   },
   "source": [
    "### Bidirection GRU\n"
   ]
  },
  {
   "cell_type": "code",
   "execution_count": 34,
   "metadata": {
    "ExecuteTime": {
     "end_time": "2020-12-26T19:55:02.251316Z",
     "start_time": "2020-12-26T19:55:01.764317Z"
    }
   },
   "outputs": [
    {
     "name": "stdout",
     "output_type": "stream",
     "text": [
      "Model: \"model_3\"\n",
      "__________________________________________________________________________________________________\n",
      "Layer (type)                    Output Shape         Param #     Connected to                     \n",
      "==================================================================================================\n",
      "input_7 (InputLayer)            [(None, 46, 50)]     0                                            \n",
      "__________________________________________________________________________________________________\n",
      "input_8 (InputLayer)            [(None, 109, 50)]    0                                            \n",
      "__________________________________________________________________________________________________\n",
      "bidirectional (Bidirectional)   (None, 128)          44544       input_7[0][0]                    \n",
      "__________________________________________________________________________________________________\n",
      "bidirectional_1 (Bidirectional) (None, 128)          44544       input_8[0][0]                    \n",
      "__________________________________________________________________________________________________\n",
      "dense_6 (Dense)                 (None, 64)           8256        bidirectional[0][0]              \n",
      "__________________________________________________________________________________________________\n",
      "dense_7 (Dense)                 (None, 64)           8256        bidirectional_1[0][0]            \n",
      "__________________________________________________________________________________________________\n",
      "dropout_4 (Dropout)             (None, 64)           0           dense_6[0][0]                    \n",
      "__________________________________________________________________________________________________\n",
      "dropout_5 (Dropout)             (None, 64)           0           dense_7[0][0]                    \n",
      "__________________________________________________________________________________________________\n",
      "concatenate_2 (Concatenate)     (None, 128)          0           dropout_4[0][0]                  \n",
      "                                                                 dropout_5[0][0]                  \n",
      "__________________________________________________________________________________________________\n",
      "dense_8 (Dense)                 (None, 1)            129         concatenate_2[0][0]              \n",
      "__________________________________________________________________________________________________\n",
      "dot_3 (Dot)                     (None, 1)            0           dropout_4[0][0]                  \n",
      "                                                                 dropout_5[0][0]                  \n",
      "__________________________________________________________________________________________________\n",
      "add_3 (Add)                     (None, 1)            0           dense_8[0][0]                    \n",
      "                                                                 dot_3[0][0]                      \n",
      "==================================================================================================\n",
      "Total params: 105,729\n",
      "Trainable params: 105,729\n",
      "Non-trainable params: 0\n",
      "__________________________________________________________________________________________________\n"
     ]
    }
   ],
   "source": [
    "def gru_tower(max_len, embedding_size, hidden_size, rnn_hidden_size):\n",
    "        input_layer = Input(shape=(max_len, embedding_size))\n",
    "        tower = Bidirectional(GRU(rnn_hidden_size, activation=\"tanh\", dropout=0.1, recurrent_dropout=0.1))(input_layer)\n",
    "        tower = Dense(hidden_size, activation=\"relu\")(tower)\n",
    "        tower = Dropout(0.4)(tower)\n",
    "        return input_layer, tower\n",
    "    \n",
    "def DeepCoNN_Bi_GRU_model(embedding_size, hidden_size, rnn_hidden_size, u_len, i_len):\n",
    "    inputU, towerU = gru_tower(u_len, embedding_size, hidden_size, rnn_hidden_size)\n",
    "    InputI, towerI = gru_tower(i_len, embedding_size, hidden_size, rnn_hidden_size)\n",
    "    joined = Concatenate()([towerU, towerI])\n",
    "    outNeuron = Dense(1)(joined)\n",
    "    dotproduct = Dot(axes=1)([towerU, towerI])\n",
    "    output_layer = Add()([outNeuron, dotproduct])\n",
    "        \n",
    "    model = Model(inputs=[inputU, InputI], outputs=[output_layer])\n",
    "    return model\n",
    "\n",
    "hidden_size = 64\n",
    "rnn_hidden_size = 64\n",
    "\n",
    "model_bi_gru = DeepCoNN_Bi_GRU_model(emb_size, hidden_size, rnn_hidden_size, u_len, i_len)\n",
    "model_bi_gru.compile(optimizer='Adam', loss='mse')\n",
    "model_bi_gru.summary()"
   ]
  },
  {
   "cell_type": "code",
   "execution_count": 35,
   "metadata": {
    "ExecuteTime": {
     "end_time": "2020-12-27T02:30:31.634315Z",
     "start_time": "2020-12-26T19:55:02.252316Z"
    }
   },
   "outputs": [
    {
     "name": "stdout",
     "output_type": "stream",
     "text": [
      "Train on 87087 samples, validate on 28473 samples\n",
      "Epoch 1/50\n",
      "87087/87087 [==============================] - 905s 10ms/sample - loss: 0.8312 - val_loss: 0.4500\n",
      "Epoch 2/50\n",
      "87087/87087 [==============================] - 906s 10ms/sample - loss: 0.6361 - val_loss: 0.4469\n",
      "Epoch 3/50\n",
      "87087/87087 [==============================] - 901s 10ms/sample - loss: 0.5532 - val_loss: 0.4385\n",
      "Epoch 4/50\n",
      "87087/87087 [==============================] - 910s 10ms/sample - loss: 0.4881 - val_loss: 0.3904\n",
      "Epoch 5/50\n",
      "87087/87087 [==============================] - 912s 10ms/sample - loss: 0.4450 - val_loss: 0.4041\n",
      "Epoch 6/50\n",
      "87087/87087 [==============================] - 918s 11ms/sample - loss: 0.4156 - val_loss: 0.3838\n",
      "Epoch 7/50\n",
      "87087/87087 [==============================] - 912s 10ms/sample - loss: 0.3941 - val_loss: 0.3738\n",
      "Epoch 8/50\n",
      "87087/87087 [==============================] - 915s 11ms/sample - loss: 0.3783 - val_loss: 0.3723\n",
      "Epoch 9/50\n",
      "87087/87087 [==============================] - 912s 10ms/sample - loss: 0.3716 - val_loss: 0.3658\n",
      "Epoch 10/50\n",
      "87087/87087 [==============================] - 906s 10ms/sample - loss: 0.3635 - val_loss: 0.3617\n",
      "Epoch 11/50\n",
      "87087/87087 [==============================] - 918s 11ms/sample - loss: 0.3591 - val_loss: 0.3605\n",
      "Epoch 12/50\n",
      "87087/87087 [==============================] - 923s 11ms/sample - loss: 0.3527 - val_loss: 0.3659\n",
      "Epoch 13/50\n",
      "87087/87087 [==============================] - 922s 11ms/sample - loss: 0.3502 - val_loss: 0.3597\n",
      "Epoch 14/50\n",
      "87087/87087 [==============================] - 903s 10ms/sample - loss: 0.3457 - val_loss: 0.3660\n",
      "Epoch 15/50\n",
      "87087/87087 [==============================] - 912s 10ms/sample - loss: 0.3410 - val_loss: 0.3559\n",
      "Epoch 16/50\n",
      "87087/87087 [==============================] - 914s 10ms/sample - loss: 0.3391 - val_loss: 0.3556\n",
      "Epoch 17/50\n",
      "87087/87087 [==============================] - 918s 11ms/sample - loss: 0.3349 - val_loss: 0.3599\n",
      "Epoch 18/50\n",
      "87087/87087 [==============================] - 916s 11ms/sample - loss: 0.3362 - val_loss: 0.3535\n",
      "Epoch 19/50\n",
      "87087/87087 [==============================] - 927s 11ms/sample - loss: 0.3314 - val_loss: 0.3549\n",
      "Epoch 20/50\n",
      "87087/87087 [==============================] - 907s 10ms/sample - loss: 0.3320 - val_loss: 0.3578\n",
      "Epoch 21/50\n",
      "87087/87087 [==============================] - 914s 10ms/sample - loss: 0.3276 - val_loss: 0.3533\n",
      "Epoch 22/50\n",
      "87087/87087 [==============================] - 907s 10ms/sample - loss: 0.3258 - val_loss: 0.3556\n",
      "Epoch 23/50\n",
      "87087/87087 [==============================] - 915s 11ms/sample - loss: 0.3300 - val_loss: 0.3498\n",
      "Epoch 24/50\n",
      "87087/87087 [==============================] - 910s 10ms/sample - loss: 0.3240 - val_loss: 0.3581\n",
      "Epoch 25/50\n",
      "87087/87087 [==============================] - 911s 10ms/sample - loss: 0.3211 - val_loss: 0.3596\n",
      "Epoch 26/50\n",
      "87087/87087 [==============================] - 914s 10ms/sample - loss: 0.3218 - val_loss: 0.3536\n"
     ]
    }
   ],
   "source": [
    "batch_size = 32\n",
    "epochs = 50\n",
    "\n",
    "tensorboard = TensorBoard(log_dir='model\\\\' + data + '\\\\bidirectional_gru_log')\n",
    "earlystop = EarlyStopping(monitor='val_loss', patience=3)\n",
    "checkpoint = ModelCheckpoint('model/' + data + '/bidirectional_gru_weight/bidirectional_gru_weights.{epoch:02d}-{val_loss:.2f}.h5',\n",
    "                             monitor='val_loss', save_best_only=True)\n",
    "history_bi_gru = model_bi_gru.fit(train_inputs, train_outputs, callbacks=[tensorboard, earlystop, checkpoint], \n",
    "                              validation_data=(valid_inputs, valid_outputs), batch_size=batch_size, epochs=epochs)\n",
    "\n",
    "model_bi_gru.save('model/' + data + '/bidirectional_gru.h5')"
   ]
  },
  {
   "cell_type": "code",
   "execution_count": 36,
   "metadata": {
    "ExecuteTime": {
     "end_time": "2020-12-27T02:30:31.640316Z",
     "start_time": "2020-12-27T02:30:31.635315Z"
    }
   },
   "outputs": [],
   "source": [
    "hist_df = pd.DataFrame(history_bi_gru.history)\n",
    "hist_csv_file = 'model/'+ data + '/history_bi_gru.csv'\n",
    "with open(hist_csv_file, mode='w') as f:\n",
    "    hist_df.to_csv(f)"
   ]
  },
  {
   "cell_type": "code",
   "execution_count": 37,
   "metadata": {
    "ExecuteTime": {
     "end_time": "2020-12-27T02:31:22.267320Z",
     "start_time": "2020-12-27T02:30:31.641317Z"
    }
   },
   "outputs": [
    {
     "name": "stdout",
     "output_type": "stream",
     "text": [
      "28511/28511 [==============================] - 51s 2ms/sample - loss: 0.3649\n"
     ]
    },
    {
     "data": {
      "text/plain": [
       "0.36488996510888505"
      ]
     },
     "execution_count": 37,
     "metadata": {},
     "output_type": "execute_result"
    }
   ],
   "source": [
    "model_bi_gru.evaluate(test_inputs, test_outputs)"
   ]
  },
  {
   "cell_type": "markdown",
   "metadata": {},
   "source": [
    "### LSTM"
   ]
  },
  {
   "cell_type": "code",
   "execution_count": 38,
   "metadata": {
    "ExecuteTime": {
     "end_time": "2020-12-27T02:31:22.531318Z",
     "start_time": "2020-12-27T02:31:22.268317Z"
    }
   },
   "outputs": [
    {
     "name": "stdout",
     "output_type": "stream",
     "text": [
      "Model: \"model_4\"\n",
      "__________________________________________________________________________________________________\n",
      "Layer (type)                    Output Shape         Param #     Connected to                     \n",
      "==================================================================================================\n",
      "input_9 (InputLayer)            [(None, 46, 50)]     0                                            \n",
      "__________________________________________________________________________________________________\n",
      "input_10 (InputLayer)           [(None, 109, 50)]    0                                            \n",
      "__________________________________________________________________________________________________\n",
      "lstm (LSTM)                     (None, 64)           29440       input_9[0][0]                    \n",
      "__________________________________________________________________________________________________\n",
      "lstm_1 (LSTM)                   (None, 64)           29440       input_10[0][0]                   \n",
      "__________________________________________________________________________________________________\n",
      "dense_9 (Dense)                 (None, 64)           4160        lstm[0][0]                       \n",
      "__________________________________________________________________________________________________\n",
      "dense_10 (Dense)                (None, 64)           4160        lstm_1[0][0]                     \n",
      "__________________________________________________________________________________________________\n",
      "dropout_6 (Dropout)             (None, 64)           0           dense_9[0][0]                    \n",
      "__________________________________________________________________________________________________\n",
      "dropout_7 (Dropout)             (None, 64)           0           dense_10[0][0]                   \n",
      "__________________________________________________________________________________________________\n",
      "concatenate_3 (Concatenate)     (None, 128)          0           dropout_6[0][0]                  \n",
      "                                                                 dropout_7[0][0]                  \n",
      "__________________________________________________________________________________________________\n",
      "dense_11 (Dense)                (None, 1)            129         concatenate_3[0][0]              \n",
      "__________________________________________________________________________________________________\n",
      "dot_4 (Dot)                     (None, 1)            0           dropout_6[0][0]                  \n",
      "                                                                 dropout_7[0][0]                  \n",
      "__________________________________________________________________________________________________\n",
      "add_4 (Add)                     (None, 1)            0           dense_11[0][0]                   \n",
      "                                                                 dot_4[0][0]                      \n",
      "==================================================================================================\n",
      "Total params: 67,329\n",
      "Trainable params: 67,329\n",
      "Non-trainable params: 0\n",
      "__________________________________________________________________________________________________\n"
     ]
    }
   ],
   "source": [
    "# LSTM model\n",
    "def lstm_tower(max_len, embedding_size, hidden_size, rnn_hidden_size):\n",
    "        input_layer = Input(shape=(max_len, embedding_size))\n",
    "        tower = LSTM(rnn_hidden_size, activation=\"tanh\")(input_layer)\n",
    "        tower = Dense(hidden_size, activation=\"relu\")(tower)\n",
    "        tower = Dropout(0.4)(tower)\n",
    "        return input_layer, tower\n",
    "    \n",
    "def DeepCoNN_LSTM_model(embedding_size, hidden_size, rnn_hidden_size, u_len, i_len):\n",
    "    inputU, towerU = lstm_tower(u_len, embedding_size, hidden_size, rnn_hidden_size)\n",
    "    InputI, towerI = lstm_tower(i_len, embedding_size, hidden_size, rnn_hidden_size)\n",
    "    joined = Concatenate()([towerU, towerI])\n",
    "    outNeuron = Dense(1)(joined)\n",
    "    dotproduct = Dot(axes=1)([towerU, towerI])\n",
    "    output_layer = Add()([outNeuron, dotproduct])\n",
    "        \n",
    "    model = Model(inputs=[inputU, InputI], outputs=[output_layer])\n",
    "    return model\n",
    "\n",
    "\n",
    "hidden_size = 64\n",
    "rnn_hidden_size = 64\n",
    "\n",
    "model_lstm = DeepCoNN_LSTM_model(emb_size, hidden_size, rnn_hidden_size, u_len, i_len)\n",
    "model_lstm.compile(optimizer='Adam', loss='mse')\n",
    "model_lstm.summary()"
   ]
  },
  {
   "cell_type": "code",
   "execution_count": 39,
   "metadata": {
    "ExecuteTime": {
     "end_time": "2020-12-27T02:38:53.548318Z",
     "start_time": "2020-12-27T02:31:22.532317Z"
    }
   },
   "outputs": [
    {
     "name": "stdout",
     "output_type": "stream",
     "text": [
      "Train on 87087 samples, validate on 28473 samples\n",
      "Epoch 1/50\n",
      "87087/87087 [==============================] - 25s 290us/sample - loss: 0.9272 - val_loss: 0.4568\n",
      "Epoch 2/50\n",
      "87087/87087 [==============================] - 24s 270us/sample - loss: 0.6864 - val_loss: 0.4315\n",
      "Epoch 3/50\n",
      "87087/87087 [==============================] - 24s 270us/sample - loss: 0.5733 - val_loss: 0.4349\n",
      "Epoch 4/50\n",
      "87087/87087 [==============================] - 23s 269us/sample - loss: 0.5017 - val_loss: 0.4087\n",
      "Epoch 5/50\n",
      "87087/87087 [==============================] - 24s 271us/sample - loss: 0.4504 - val_loss: 0.4168\n",
      "Epoch 6/50\n",
      "87087/87087 [==============================] - 24s 271us/sample - loss: 0.4188 - val_loss: 0.3854\n",
      "Epoch 7/50\n",
      "87087/87087 [==============================] - 23s 268us/sample - loss: 0.3913 - val_loss: 0.3822\n",
      "Epoch 8/50\n",
      "87087/87087 [==============================] - 24s 271us/sample - loss: 0.3774 - val_loss: 0.3820\n",
      "Epoch 9/50\n",
      "87087/87087 [==============================] - 24s 274us/sample - loss: 0.3691 - val_loss: 0.3818\n",
      "Epoch 10/50\n",
      "87087/87087 [==============================] - 24s 272us/sample - loss: 0.3615 - val_loss: 0.3934\n",
      "Epoch 11/50\n",
      "87087/87087 [==============================] - 24s 273us/sample - loss: 0.3523 - val_loss: 0.3729\n",
      "Epoch 12/50\n",
      "87087/87087 [==============================] - 24s 273us/sample - loss: 0.3449 - val_loss: 0.3775\n",
      "Epoch 13/50\n",
      "87087/87087 [==============================] - 24s 270us/sample - loss: 0.3367 - val_loss: 0.3717\n",
      "Epoch 14/50\n",
      "87087/87087 [==============================] - 24s 271us/sample - loss: 0.3314 - val_loss: 0.3696\n",
      "Epoch 15/50\n",
      "87087/87087 [==============================] - 24s 274us/sample - loss: 0.3248 - val_loss: 0.3614\n",
      "Epoch 16/50\n",
      "87087/87087 [==============================] - 24s 275us/sample - loss: 0.3210 - val_loss: 0.3584\n",
      "Epoch 17/50\n",
      "87087/87087 [==============================] - 24s 272us/sample - loss: 0.3162 - val_loss: 0.3632\n",
      "Epoch 18/50\n",
      "87087/87087 [==============================] - 24s 272us/sample - loss: 0.3136 - val_loss: 0.3618\n",
      "Epoch 19/50\n",
      "87087/87087 [==============================] - 24s 270us/sample - loss: 0.3062 - val_loss: 0.3650\n"
     ]
    }
   ],
   "source": [
    "batch_size = 32\n",
    "epochs = 50\n",
    "\n",
    "tensorboard = TensorBoard(log_dir='model\\\\' + data + '\\\\lstm_log')\n",
    "earlystop = EarlyStopping(monitor='val_loss', patience=3)\n",
    "checkpoint = ModelCheckpoint('model/' + data + '/lstm_weight/lstm_weights.{epoch:02d}-{val_loss:.2f}.h5',\n",
    "                             monitor='val_loss', save_best_only=True)\n",
    "history_lstm = model_lstm.fit(train_inputs, train_outputs, callbacks=[tensorboard, earlystop, checkpoint], \n",
    "                              validation_data=(valid_inputs, valid_outputs), batch_size=batch_size, epochs=epochs)\n",
    "\n",
    "model_lstm.save('model/' + data + '/lstm.h5')"
   ]
  },
  {
   "cell_type": "markdown",
   "metadata": {},
   "source": [
    "Prediction and errors"
   ]
  },
  {
   "cell_type": "code",
   "execution_count": 40,
   "metadata": {
    "ExecuteTime": {
     "end_time": "2020-12-27T02:38:53.553318Z",
     "start_time": "2020-12-27T02:38:53.549320Z"
    }
   },
   "outputs": [],
   "source": [
    "hist_df = pd.DataFrame(history_lstm.history)\n",
    "hist_csv_file = 'model/'+ data + '/history_lstm.csv'\n",
    "with open(hist_csv_file, mode='w') as f:\n",
    "    hist_df.to_csv(f)"
   ]
  },
  {
   "cell_type": "code",
   "execution_count": 41,
   "metadata": {
    "ExecuteTime": {
     "end_time": "2020-12-27T02:38:56.863319Z",
     "start_time": "2020-12-27T02:38:53.554320Z"
    }
   },
   "outputs": [
    {
     "name": "stdout",
     "output_type": "stream",
     "text": [
      "28511/28511 [==============================] - 3s 115us/sample - loss: 0.3804\n"
     ]
    },
    {
     "data": {
      "text/plain": [
       "0.3804241715366957"
      ]
     },
     "execution_count": 41,
     "metadata": {},
     "output_type": "execute_result"
    }
   ],
   "source": [
    "model_lstm.evaluate(test_inputs, test_outputs)"
   ]
  },
  {
   "cell_type": "markdown",
   "metadata": {},
   "source": [
    "### Stacked LSTM"
   ]
  },
  {
   "cell_type": "code",
   "execution_count": 42,
   "metadata": {
    "ExecuteTime": {
     "end_time": "2020-12-27T02:38:56.867318Z",
     "start_time": "2020-12-27T02:38:56.864320Z"
    }
   },
   "outputs": [],
   "source": [
    "# def lstm_tower(max_len, embedding_size, hidden_size, rnn_hidden_size):\n",
    "#         input_layer = Input(shape=(max_len, embedding_size))\n",
    "#         tower = GRU(rnn_hidden_size, activation=\"tanh\", dropout=0.2, recurrent_dropout=0.2, return_sequences=True)(input_layer)\n",
    "#         tower = BatchNormalization()(tower)\n",
    "#         tower = GRU(16, activation='tanh', dropout=0.2, recurrent_dropout=0.2)(tower)\n",
    "#         tower = Dense(hidden_size, activation=\"relu\")(tower)\n",
    "#         return input_layer, tower\n",
    "    \n",
    "# def DeepCoNN_Stacked_LSTM_model(embedding_size, hidden_size, rnn_hidden_size, u_len, i_len):\n",
    "#     inputU, towerU = lstm_tower(u_len, embedding_size, hidden_size, rnn_hidden_size)\n",
    "#     InputI, towerI = lstm_tower(i_len, embedding_size, hidden_size, rnn_hidden_size)\n",
    "#     joined = Concatenate()([towerU, towerI])\n",
    "#     outNeuron = Dense(1)(joined)\n",
    "#     dotproduct = Dot(axes=1)([towerU, towerI])\n",
    "#     output_layer = Add()([outNeuron, dotproduct])\n",
    "        \n",
    "#     model = Model(inputs=[inputU, InputI], outputs=[output_layer])\n",
    "#     return model\n",
    "\n",
    "# hidden_size = 64\n",
    "# rnn_hidden_size = 64\n",
    "\n",
    "# model_stacked_lstm = DeepCoNN_Stacked_LSTM_model(emb_size, hidden_size, rnn_hidden_size, u_len, i_len)\n",
    "# model_stacked_lstm.compile(optimizer='Adam', loss='mse')\n",
    "# model_stacked_lstm.summary()"
   ]
  },
  {
   "cell_type": "code",
   "execution_count": 43,
   "metadata": {
    "ExecuteTime": {
     "end_time": "2020-12-27T02:38:56.892316Z",
     "start_time": "2020-12-27T02:38:56.868317Z"
    }
   },
   "outputs": [],
   "source": [
    "# batch_size = 32\n",
    "# epochs = 50\n",
    "\n",
    "# tensorboard = TensorBoard(log_dir='model\\\\' + data + '\\\\stacked_lstm_log')\n",
    "# earlystop = EarlyStopping(monitor='val_loss', patience=3)\n",
    "# checkpoint = ModelCheckpoint('model/' + data + '/stacked_lstm_weight/stacked_lstm_weights.{epoch:02d}-{val_loss:.2f}.h5',\n",
    "#                              monitor='val_loss', save_best_only=True)\n",
    "# history_stacked_lstm = model_stacked_lstm.fit(train_inputs, train_outputs, callbacks=[tensorboard, earlystop, checkpoint], \n",
    "#                               validation_data=(valid_inputs, valid_outputs), batch_size=batch_size, epochs=epochs)\n",
    "\n",
    "# model_stacked_lstm.save('model/' + data + '/stacked_lstm.h5')"
   ]
  },
  {
   "cell_type": "code",
   "execution_count": 44,
   "metadata": {
    "ExecuteTime": {
     "end_time": "2020-12-27T02:38:56.912317Z",
     "start_time": "2020-12-27T02:38:56.893318Z"
    }
   },
   "outputs": [],
   "source": [
    "# model_stacked_lstm.evaluate(test_inputs, test_outputs)"
   ]
  },
  {
   "cell_type": "markdown",
   "metadata": {
    "ExecuteTime": {
     "end_time": "2020-12-06T05:23:22.911247Z",
     "start_time": "2020-12-06T05:23:22.909249Z"
    }
   },
   "source": [
    "### Bidirection LSTM"
   ]
  },
  {
   "cell_type": "code",
   "execution_count": 45,
   "metadata": {
    "ExecuteTime": {
     "end_time": "2020-12-27T02:38:57.445319Z",
     "start_time": "2020-12-27T02:38:56.913318Z"
    }
   },
   "outputs": [
    {
     "name": "stdout",
     "output_type": "stream",
     "text": [
      "Model: \"model_5\"\n",
      "__________________________________________________________________________________________________\n",
      "Layer (type)                    Output Shape         Param #     Connected to                     \n",
      "==================================================================================================\n",
      "input_11 (InputLayer)           [(None, 46, 50)]     0                                            \n",
      "__________________________________________________________________________________________________\n",
      "input_12 (InputLayer)           [(None, 109, 50)]    0                                            \n",
      "__________________________________________________________________________________________________\n",
      "bidirectional_2 (Bidirectional) (None, 128)          58880       input_11[0][0]                   \n",
      "__________________________________________________________________________________________________\n",
      "bidirectional_3 (Bidirectional) (None, 128)          58880       input_12[0][0]                   \n",
      "__________________________________________________________________________________________________\n",
      "dense_12 (Dense)                (None, 64)           8256        bidirectional_2[0][0]            \n",
      "__________________________________________________________________________________________________\n",
      "dense_13 (Dense)                (None, 64)           8256        bidirectional_3[0][0]            \n",
      "__________________________________________________________________________________________________\n",
      "dropout_8 (Dropout)             (None, 64)           0           dense_12[0][0]                   \n",
      "__________________________________________________________________________________________________\n",
      "dropout_9 (Dropout)             (None, 64)           0           dense_13[0][0]                   \n",
      "__________________________________________________________________________________________________\n",
      "concatenate_4 (Concatenate)     (None, 128)          0           dropout_8[0][0]                  \n",
      "                                                                 dropout_9[0][0]                  \n",
      "__________________________________________________________________________________________________\n",
      "dense_14 (Dense)                (None, 1)            129         concatenate_4[0][0]              \n",
      "__________________________________________________________________________________________________\n",
      "dot_5 (Dot)                     (None, 1)            0           dropout_8[0][0]                  \n",
      "                                                                 dropout_9[0][0]                  \n",
      "__________________________________________________________________________________________________\n",
      "add_5 (Add)                     (None, 1)            0           dense_14[0][0]                   \n",
      "                                                                 dot_5[0][0]                      \n",
      "==================================================================================================\n",
      "Total params: 134,401\n",
      "Trainable params: 134,401\n",
      "Non-trainable params: 0\n",
      "__________________________________________________________________________________________________\n"
     ]
    }
   ],
   "source": [
    "def lstm_tower(max_len, embedding_size, hidden_size, rnn_hidden_size):\n",
    "        input_layer = Input(shape=(max_len, embedding_size))\n",
    "        tower = Bidirectional(LSTM(rnn_hidden_size, activation=\"tanh\", dropout=0.1, recurrent_dropout=0.1))(input_layer)\n",
    "        tower = Dense(hidden_size, activation=\"relu\")(tower)\n",
    "        tower = Dropout(0.4)(tower)\n",
    "        return input_layer, tower\n",
    "    \n",
    "def DeepCoNN_Bi_LSTM_model(embedding_size, hidden_size, rnn_hidden_size, u_len, i_len):\n",
    "    inputU, towerU = lstm_tower(u_len, embedding_size, hidden_size, rnn_hidden_size)\n",
    "    InputI, towerI = lstm_tower(i_len, embedding_size, hidden_size, rnn_hidden_size)\n",
    "    joined = Concatenate()([towerU, towerI])\n",
    "    outNeuron = Dense(1)(joined)\n",
    "    dotproduct = Dot(axes=1)([towerU, towerI])\n",
    "    output_layer = Add()([outNeuron, dotproduct])\n",
    "        \n",
    "    model = Model(inputs=[inputU, InputI], outputs=[output_layer])\n",
    "    return model\n",
    "\n",
    "hidden_size = 64\n",
    "rnn_hidden_size = 64\n",
    "\n",
    "model_bi_lstm = DeepCoNN_Bi_LSTM_model(emb_size, hidden_size, rnn_hidden_size, u_len, i_len)\n",
    "model_bi_lstm.compile(optimizer='Adam', loss='mse')\n",
    "model_bi_lstm.summary()"
   ]
  },
  {
   "cell_type": "code",
   "execution_count": 46,
   "metadata": {
    "ExecuteTime": {
     "end_time": "2020-12-27T07:44:40.492333Z",
     "start_time": "2020-12-27T02:38:57.446318Z"
    }
   },
   "outputs": [
    {
     "name": "stdout",
     "output_type": "stream",
     "text": [
      "Train on 87087 samples, validate on 28473 samples\n",
      "Epoch 1/50\n",
      "87087/87087 [==============================] - 956s 11ms/sample - loss: 0.8234 - val_loss: 0.4559\n",
      "Epoch 2/50\n",
      "87087/87087 [==============================] - 952s 11ms/sample - loss: 0.6413 - val_loss: 0.4290\n",
      "Epoch 3/50\n",
      "87087/87087 [==============================] - 959s 11ms/sample - loss: 0.5574 - val_loss: 0.4304\n",
      "Epoch 4/50\n",
      "87087/87087 [==============================] - 1038s 12ms/sample - loss: 0.4893 - val_loss: 0.3943\n",
      "Epoch 5/50\n",
      "87087/87087 [==============================] - 951s 11ms/sample - loss: 0.4489 - val_loss: 0.4000\n",
      "Epoch 6/50\n",
      "87087/87087 [==============================] - 944s 11ms/sample - loss: 0.4133 - val_loss: 0.3766\n",
      "Epoch 7/50\n",
      "87087/87087 [==============================] - 1076s 12ms/sample - loss: 0.3921 - val_loss: 0.3732\n",
      "Epoch 8/50\n",
      "87087/87087 [==============================] - 962s 11ms/sample - loss: 0.3738 - val_loss: 0.3750\n",
      "Epoch 9/50\n",
      "87087/87087 [==============================] - 951s 11ms/sample - loss: 0.3650 - val_loss: 0.3670\n",
      "Epoch 10/50\n",
      "87087/87087 [==============================] - 965s 11ms/sample - loss: 0.3574 - val_loss: 0.3714\n",
      "Epoch 11/50\n",
      "87087/87087 [==============================] - 955s 11ms/sample - loss: 0.3466 - val_loss: 0.3599\n",
      "Epoch 12/50\n",
      "87087/87087 [==============================] - 952s 11ms/sample - loss: 0.3431 - val_loss: 0.3655\n",
      "Epoch 13/50\n",
      "87087/87087 [==============================] - 958s 11ms/sample - loss: 0.3337 - val_loss: 0.3575\n",
      "Epoch 14/50\n",
      "87087/87087 [==============================] - 954s 11ms/sample - loss: 0.3311 - val_loss: 0.3678\n",
      "Epoch 15/50\n",
      "87087/87087 [==============================] - 952s 11ms/sample - loss: 0.3268 - val_loss: 0.3579\n",
      "Epoch 16/50\n",
      "87087/87087 [==============================] - 959s 11ms/sample - loss: 0.3213 - val_loss: 0.3559\n",
      "Epoch 17/50\n",
      "87087/87087 [==============================] - 953s 11ms/sample - loss: 0.3167 - val_loss: 0.3594\n",
      "Epoch 18/50\n",
      "87087/87087 [==============================] - 955s 11ms/sample - loss: 0.3156 - val_loss: 0.3576\n",
      "Epoch 19/50\n",
      "87087/87087 [==============================] - 952s 11ms/sample - loss: 0.3119 - val_loss: 0.3585\n"
     ]
    }
   ],
   "source": [
    "batch_size = 32\n",
    "epochs = 50\n",
    "\n",
    "tensorboard = TensorBoard(log_dir='model\\\\' + data + '\\\\bidirectional_lstm_log')\n",
    "earlystop = EarlyStopping(monitor='val_loss', patience=3)\n",
    "checkpoint = ModelCheckpoint('model/' + data + '/bidirectional_lstm_weight/bidirectional_lstm_weights.{epoch:02d}-{val_loss:.2f}.h5',\n",
    "                             monitor='val_loss', save_best_only=True)\n",
    "history_bi_lstm = model_bi_lstm.fit(train_inputs, train_outputs, callbacks=[tensorboard, earlystop, checkpoint], \n",
    "                              validation_data=(valid_inputs, valid_outputs), batch_size=batch_size, epochs=epochs)\n",
    "\n",
    "model_bi_lstm.save('model/' + data + '/bidirectional_lstm.h5')"
   ]
  },
  {
   "cell_type": "code",
   "execution_count": 47,
   "metadata": {
    "ExecuteTime": {
     "end_time": "2020-12-27T07:44:40.507333Z",
     "start_time": "2020-12-27T07:44:40.494334Z"
    }
   },
   "outputs": [],
   "source": [
    "hist_df = pd.DataFrame(history_bi_lstm.history)\n",
    "hist_csv_file = 'model/'+ data + '/history_bi_lstm.csv'\n",
    "with open(hist_csv_file, mode='w') as f:\n",
    "    hist_df.to_csv(f)"
   ]
  },
  {
   "cell_type": "code",
   "execution_count": 48,
   "metadata": {
    "ExecuteTime": {
     "end_time": "2020-12-27T07:45:33.746184Z",
     "start_time": "2020-12-27T07:44:40.508333Z"
    }
   },
   "outputs": [
    {
     "name": "stdout",
     "output_type": "stream",
     "text": [
      "28511/28511 [==============================] - 53s 2ms/sample - loss: 0.3696\n"
     ]
    },
    {
     "data": {
      "text/plain": [
       "0.36957216835010265"
      ]
     },
     "execution_count": 48,
     "metadata": {},
     "output_type": "execute_result"
    }
   ],
   "source": [
    "model_bi_lstm.evaluate(test_inputs, test_outputs)"
   ]
  },
  {
   "cell_type": "markdown",
   "metadata": {},
   "source": [
    "# Evaluate"
   ]
  },
  {
   "cell_type": "code",
   "execution_count": 49,
   "metadata": {
    "ExecuteTime": {
     "end_time": "2020-12-27T07:47:27.399239Z",
     "start_time": "2020-12-27T07:45:33.747184Z"
    }
   },
   "outputs": [
    {
     "name": "stdout",
     "output_type": "stream",
     "text": [
      "Test MSE for MF model : 0.40052583161058947\n",
      "Test MSE for CNN model : 0.39401102\n",
      "Test MSE for GRU model : 0.37232298\n",
      "Test MSE for Bidirectional GRU model : 0.36488995\n",
      "Test MSE for LSTM model : 0.38042417\n",
      "Test MSE for Bidirectional LSTM model : 0.36957213\n"
     ]
    }
   ],
   "source": [
    "predictions_mf = model_MF.predict(X_test_array)\n",
    "predictions_cnn = model_cnn.predict(test_inputs)\n",
    "predictions_gru = model_gru.predict(test_inputs)\n",
    "# predictions_stacked_gru = model_stacked_gru.predict(test_inputs)\n",
    "predictions_bi_gru = model_bi_gru.predict(test_inputs)\n",
    "predictions_lstm = model_lstm.predict(test_inputs)\n",
    "# predictions_stacked_lstm = model_stacked_lstm.predict(test_inputs)\n",
    "predictions_bi_lstm = model_bi_lstm.predict(test_inputs)\n",
    "\n",
    "error_mf = np.square(predictions_mf.reshape(-1,) - y_test)\n",
    "print(\"Test MSE for MF model :\", np.average(error_mf))\n",
    "\n",
    "error_cnn = np.square(predictions_cnn.reshape(-1,) - test_outputs)\n",
    "print(\"Test MSE for CNN model :\", np.average(error_cnn))\n",
    "\n",
    "error_gru = np.square(predictions_gru.reshape(-1,) - test_outputs)\n",
    "print(\"Test MSE for GRU model :\", np.average(error_gru))\n",
    "\n",
    "# error_stacked_gru = np.square(predictions_stacked_gru.reshape(-1,) - test_outputs)\n",
    "# print(\"Test MSE for Stacked GRU model :\", np.average(error_stacked_gru))\n",
    "\n",
    "error_bi_gru = np.square(predictions_bi_gru.reshape(-1,) - test_outputs)\n",
    "print(\"Test MSE for Bidirectional GRU model :\", np.average(error_bi_gru))\n",
    "\n",
    "error_lstm = np.square(predictions_lstm.reshape(-1,) - test_outputs)\n",
    "print(\"Test MSE for LSTM model :\", np.average(error_lstm))\n",
    "\n",
    "# error_stacked_lstm = np.square(predictions_stacked_lstm.reshape(-1,) - test_outputs)\n",
    "# print(\"Test MSE for Stacked LSTM model :\", np.average(error_stacked_lstm))\n",
    "\n",
    "error_bi_lstm = np.square(predictions_bi_lstm.reshape(-1,) - test_outputs)\n",
    "print(\"Test MSE for Bidirectional LSTM model :\", np.average(error_bi_lstm))\n",
    "\n"
   ]
  },
  {
   "cell_type": "markdown",
   "metadata": {},
   "source": [
    "# Hybrid MF - DeepCoNN"
   ]
  },
  {
   "cell_type": "code",
   "execution_count": 50,
   "metadata": {
    "ExecuteTime": {
     "end_time": "2020-12-27T07:47:27.406241Z",
     "start_time": "2020-12-27T07:47:27.400240Z"
    }
   },
   "outputs": [],
   "source": [
    "weight = np.linspace(0, 1, num=11)\n",
    "\n",
    "def Weight_MF_DeepCoNN(weight, mf, deepconn, text):\n",
    "    print(text)\n",
    "    for i in weight:\n",
    "        error = np.square(((mf.reshape(-1,)*i)+(deepconn.reshape(-1,)*(1-i))) - test_outputs)\n",
    "        print(round(i,1), np.average(error))\n",
    "    print('-------------------------------------------------')       \n",
    "    "
   ]
  },
  {
   "cell_type": "code",
   "execution_count": 51,
   "metadata": {
    "ExecuteTime": {
     "end_time": "2020-12-27T07:47:27.467246Z",
     "start_time": "2020-12-27T07:47:27.407239Z"
    }
   },
   "outputs": [
    {
     "name": "stdout",
     "output_type": "stream",
     "text": [
      "CNN\n",
      "0.0 0.39401102\n",
      "0.1 0.3829948\n",
      "0.2 0.3745713\n",
      "0.3 0.3687407\n",
      "0.4 0.36550292\n",
      "0.5 0.364858\n",
      "0.6 0.36680585\n",
      "0.7 0.37134662\n",
      "0.8 0.3784802\n",
      "0.9 0.38820666\n",
      "1.0 0.40052584\n",
      "-------------------------------------------------\n",
      "GRU\n",
      "0.0 0.37232298\n",
      "0.1 0.3619158\n",
      "0.2 0.354448\n",
      "0.3 0.3499197\n",
      "0.4 0.34833083\n",
      "0.5 0.3496814\n",
      "0.6 0.3539714\n",
      "0.7 0.36120084\n",
      "0.8 0.37136972\n",
      "0.9 0.3844781\n",
      "1.0 0.40052584\n",
      "-------------------------------------------------\n",
      "Bidirectional GRU\n",
      "0.0 0.36488995\n",
      "0.1 0.35613143\n",
      "0.2 0.35011116\n",
      "0.3 0.3468292\n",
      "0.4 0.34628537\n",
      "0.5 0.34847984\n",
      "0.6 0.35341257\n",
      "0.7 0.3610835\n",
      "0.8 0.3714927\n",
      "0.9 0.38464016\n",
      "1.0 0.40052584\n",
      "-------------------------------------------------\n",
      "LSTM\n",
      "0.0 0.38042417\n",
      "0.1 0.37102753\n",
      "0.2 0.36416572\n",
      "0.3 0.3598388\n",
      "0.4 0.35804662\n",
      "0.5 0.3587894\n",
      "0.6 0.36206698\n",
      "0.7 0.36787942\n",
      "0.8 0.37622666\n",
      "0.9 0.3871089\n",
      "1.0 0.40052584\n",
      "-------------------------------------------------\n",
      "Bidirectional LSTM\n",
      "0.0 0.36957213\n",
      "0.1 0.36071432\n",
      "0.2 0.35451278\n",
      "0.3 0.35096747\n",
      "0.4 0.35007843\n",
      "0.5 0.3518457\n",
      "0.6 0.35626915\n",
      "0.7 0.36334896\n",
      "0.8 0.37308496\n",
      "0.9 0.38547727\n",
      "1.0 0.40052584\n",
      "-------------------------------------------------\n"
     ]
    }
   ],
   "source": [
    "Weight_MF_DeepCoNN(weight, predictions_mf, predictions_cnn, 'CNN')\n",
    "Weight_MF_DeepCoNN(weight, predictions_mf, predictions_gru, 'GRU')\n",
    "# Weight_MF_DeepCoNN(weight, predictions_mf, predictions_stacked_gru, 'Stacked GRU')\n",
    "Weight_MF_DeepCoNN(weight, predictions_mf, predictions_bi_gru, 'Bidirectional GRU')\n",
    "Weight_MF_DeepCoNN(weight, predictions_mf, predictions_lstm, 'LSTM')\n",
    "# Weight_MF_DeepCoNN(weight, predictions_mf, predictions_stacked_lstm, 'Stacked LSTM')\n",
    "Weight_MF_DeepCoNN(weight, predictions_mf, predictions_bi_lstm, 'Bidirectional LSTM')"
   ]
  },
  {
   "cell_type": "code",
   "execution_count": null,
   "metadata": {},
   "outputs": [],
   "source": []
  },
  {
   "cell_type": "code",
   "execution_count": null,
   "metadata": {},
   "outputs": [],
   "source": []
  },
  {
   "cell_type": "code",
   "execution_count": null,
   "metadata": {},
   "outputs": [],
   "source": []
  }
 ],
 "metadata": {
  "kernelspec": {
   "display_name": "tensorflow2",
   "language": "python",
   "name": "tensorflow2"
  },
  "language_info": {
   "codemirror_mode": {
    "name": "ipython",
    "version": 3
   },
   "file_extension": ".py",
   "mimetype": "text/x-python",
   "name": "python",
   "nbconvert_exporter": "python",
   "pygments_lexer": "ipython3",
   "version": "3.7.6"
  },
  "latex_envs": {
   "LaTeX_envs_menu_present": true,
   "autoclose": false,
   "autocomplete": true,
   "bibliofile": "biblio.bib",
   "cite_by": "apalike",
   "current_citInitial": 1,
   "eqLabelWithNumbers": true,
   "eqNumInitial": 1,
   "hotkeys": {
    "equation": "Ctrl-E",
    "itemize": "Ctrl-I"
   },
   "labels_anchors": false,
   "latex_user_defs": false,
   "report_style_numbering": false,
   "user_envs_cfg": false
  },
  "toc": {
   "base_numbering": 1,
   "nav_menu": {},
   "number_sections": true,
   "sideBar": true,
   "skip_h1_title": false,
   "title_cell": "Table of Contents",
   "title_sidebar": "Contents",
   "toc_cell": false,
   "toc_position": {
    "height": "calc(100% - 180px)",
    "left": "10px",
    "top": "150px",
    "width": "384px"
   },
   "toc_section_display": true,
   "toc_window_display": true
  },
  "varInspector": {
   "cols": {
    "lenName": 16,
    "lenType": 16,
    "lenVar": 40
   },
   "kernels_config": {
    "python": {
     "delete_cmd_postfix": "",
     "delete_cmd_prefix": "del ",
     "library": "var_list.py",
     "varRefreshCmd": "print(var_dic_list())"
    },
    "r": {
     "delete_cmd_postfix": ") ",
     "delete_cmd_prefix": "rm(",
     "library": "var_list.r",
     "varRefreshCmd": "cat(var_dic_list()) "
    }
   },
   "types_to_exclude": [
    "module",
    "function",
    "builtin_function_or_method",
    "instance",
    "_Feature"
   ],
   "window_display": false
  }
 },
 "nbformat": 4,
 "nbformat_minor": 2
}
